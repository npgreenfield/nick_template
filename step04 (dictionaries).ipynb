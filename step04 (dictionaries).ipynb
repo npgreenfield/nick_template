{
 "cells": [
  {
   "cell_type": "code",
   "execution_count": null,
   "id": "ee29464d-45c9-4a47-9e4f-5503f93bb033",
   "metadata": {
    "tags": []
   },
   "outputs": [],
   "source": [
    "# Dictionary data type (collection of many values... indexes are called keys and a key with its associated value is a key-value pair)\n",
    "\n",
    "myCat = {'size': 'fat', 'color': 'gray', 'disposition': 'loud'}\n",
    "'My cat has ' + myCat['color'] + ' fur.'"
   ]
  },
  {
   "cell_type": "code",
   "execution_count": null,
   "id": "e9b8d57d-d41a-4357-8282-26d9bba5e930",
   "metadata": {
    "tags": []
   },
   "outputs": [],
   "source": [
    "spam={12345: 'Luggage combination', 42: 'The Answer'}"
   ]
  },
  {
   "cell_type": "code",
   "execution_count": null,
   "id": "d2bdd41f-0e3e-4d4a-8450-88e603f0a3f6",
   "metadata": {
    "tags": []
   },
   "outputs": [],
   "source": [
    "# two dictionaries with different orderings of key-value pairs, are considered the same (because dictionaries have no order)\n",
    "# dictionaries are mutable\n",
    "eggs = {'name': 'Zophie', 'species': 'cat', 'age': 8}\n",
    "\n",
    "# keys()   values()   items()  are dictionary methods\n",
    "listA = list(eggs.keys())\n",
    "listB = list(eggs.values())\n",
    "listC = list(eggs.items())\n",
    "print(listA)\n",
    "print(listB)\n",
    "print(listC)\n",
    "\n",
    "# print the keys\n",
    "for k in eggs.keys():\n",
    "    print(k)\n",
    "\n",
    "# print the items (key,value pairs)\n",
    "for i in eggs.items():\n",
    "    print(i)\n",
    "\n",
    "# print the key,value pairs\n",
    "for k, v in eggs.items():\n",
    "    print(k,v)\n"
   ]
  },
  {
   "cell_type": "code",
   "execution_count": null,
   "id": "d4bffbdf-020a-45bc-b295-b0632bba9dc2",
   "metadata": {
    "tags": []
   },
   "outputs": [],
   "source": [
    "# tuples are the same things as lists, excepct they are immutable and they use parenthesis instead of square brackets\n",
    "'cat' in eggs.values()"
   ]
  },
  {
   "cell_type": "code",
   "execution_count": null,
   "id": "2efcf80a-c7dc-4baf-9753-83353bdcfd19",
   "metadata": {
    "tags": []
   },
   "outputs": [],
   "source": [
    "eggs = {'name': 'Zophie', 'species': 'cat', 'age': 8}\n",
    "if 'color' in eggs:    # avoids errors when item isn't in your dictionary\n",
    "    print(eggs['color'])\n",
    "else:\n",
    "    print(\"no color\")\n",
    "\n",
    "eggs.setdefault('color','black')\n",
    "\n",
    "# above line replaces\n",
    "if 'color' not in eggs:\n",
    "    eggs['color']='green'\n",
    "eggs"
   ]
  },
  {
   "cell_type": "code",
   "execution_count": null,
   "id": "67eb827b-ba53-4558-822c-f5a2a581f19f",
   "metadata": {
    "tags": []
   },
   "outputs": [],
   "source": [
    "eggs = {'name': 'Zophie', 'species': 'cat', 'age': 8}\n",
    "eggs.get('age', 0) # returns substitue value if it doesn't exist\n",
    "eggs.get('color', 'no color') # returns substitue value if it doesn't exist"
   ]
  },
  {
   "cell_type": "code",
   "execution_count": null,
   "id": "61c397e0-d4c6-448a-b307-02c117e165cf",
   "metadata": {
    "tags": []
   },
   "outputs": [],
   "source": [
    "myItem='napkins'\n",
    "picnicItems={'apples': 5, 'cups': 2}\n",
    "print('I am bringing ' + str(picnicItems.get(myItem,0)) + ' ' + myItem + ' to the picnic')"
   ]
  },
  {
   "cell_type": "code",
   "execution_count": null,
   "id": "d06e0380-bffc-4326-a683-1ab549c19294",
   "metadata": {
    "tags": []
   },
   "outputs": [],
   "source": [
    "message='It was a bright cold day in April, and the clocks were striking thirteen'\n",
    "myCount = {}\n",
    "\n",
    "for character in message.upper():          # without the upper method, upper & lower case letters will be treated separately\n",
    "    myCount.setdefault(character,0)\n",
    "    myCount[character]=myCount[character]+1\n",
    "\n",
    "print(myCount,'\\n')\n",
    "\n",
    "import pprint\n",
    "pprint.pprint(myCount)\n",
    "print()\n",
    "\n",
    "# or\n",
    "\n",
    "rjtext=pprint.pformat(myCount) # pretty print\n",
    "print(rjtext) #pretty print as a string"
   ]
  },
  {
   "cell_type": "code",
   "execution_count": null,
   "id": "95fc0c7f-22c7-4d46-a996-85d4d8546fda",
   "metadata": {},
   "outputs": [],
   "source": []
  }
 ],
 "metadata": {
  "kernelspec": {
   "display_name": "Python 3 (ipykernel)",
   "language": "python",
   "name": "python3"
  },
  "language_info": {
   "codemirror_mode": {
    "name": "ipython",
    "version": 3
   },
   "file_extension": ".py",
   "mimetype": "text/x-python",
   "name": "python",
   "nbconvert_exporter": "python",
   "pygments_lexer": "ipython3",
   "version": "3.11.5"
  }
 },
 "nbformat": 4,
 "nbformat_minor": 5
}
