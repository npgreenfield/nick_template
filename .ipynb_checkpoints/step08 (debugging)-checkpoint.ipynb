{
 "cells": [
  {
   "cell_type": "code",
   "execution_count": null,
   "id": "4a9598c1-53b7-42a2-aa02-89c9aa3b1644",
   "metadata": {},
   "outputs": [],
   "source": [
    "# the raise keyword is used to raise exceptions or errors"
   ]
  },
  {
   "cell_type": "code",
   "execution_count": null,
   "id": "7679bc6c-ce19-443a-819d-c44c742b321c",
   "metadata": {
    "tags": []
   },
   "outputs": [],
   "source": [
    "raise Exception('This is the error message.')"
   ]
  },
  {
   "cell_type": "code",
   "execution_count": null,
   "id": "ecba712a-dc04-4bd4-923e-a58a894bbeb3",
   "metadata": {
    "tags": []
   },
   "outputs": [],
   "source": [
    "\"\"\"\n",
    "\n",
    "*********************\n",
    "*                   *\n",
    "*                   *\n",
    "*                   *\n",
    "*********************\n",
    "\n",
    "\"\"\"\n",
    "\n",
    "def boxPrint(symbol,width,height):\n",
    "  print(symbol * width)\n",
    "  for i in range(height-2):\n",
    "    print(symbol + (' ' * (width-2)) + symbol)\n",
    "  print(symbol * width)\n",
    "\n",
    "boxPrint('o',15,5)"
   ]
  },
  {
   "cell_type": "code",
   "execution_count": null,
   "id": "2e22489b-aef3-4c75-9248-7233b1543815",
   "metadata": {
    "tags": []
   },
   "outputs": [],
   "source": [
    "boxPrint('x',15,5)\n",
    "print('\\n\\n')\n",
    "boxPrint('+',15,5)"
   ]
  },
  {
   "cell_type": "code",
   "execution_count": null,
   "id": "c5113323-250e-4a15-908c-465a0835e610",
   "metadata": {
    "tags": []
   },
   "outputs": [],
   "source": [
    "def boxPrint2(symbol,width,height):\n",
    "  if len(symbol) !=1:\n",
    "    raise Exception('\"symbol\" needs to be a string of length 1.')\n",
    "  if (width<2) or (height<2):\n",
    "    raise Exception('\"width\"  and \"height\" must be greater than or equal to 2.')\n",
    "\n",
    "  print(symbol * width)\n",
    "  for i in range(height-2):\n",
    "    print(symbol + (' ' * (width-2)) + symbol)\n",
    "  print(symbol * width)"
   ]
  },
  {
   "cell_type": "code",
   "execution_count": null,
   "id": "a375e90b-edd4-49ff-95f4-2a7d77575cd6",
   "metadata": {
    "tags": []
   },
   "outputs": [],
   "source": [
    "boxPrint2('-',20,1)"
   ]
  },
  {
   "cell_type": "code",
   "execution_count": null,
   "id": "b515e81e-fa47-4de5-858b-6b0ece1b940c",
   "metadata": {},
   "outputs": [],
   "source": []
  },
  {
   "cell_type": "code",
   "execution_count": null,
   "id": "a8d524ec-a84a-4c6e-b7d9-638f17a36255",
   "metadata": {},
   "outputs": [],
   "source": []
  },
  {
   "cell_type": "code",
   "execution_count": null,
   "id": "b0b72d1e-6acc-42f3-beda-a94381d3399d",
   "metadata": {},
   "outputs": [],
   "source": []
  },
  {
   "cell_type": "code",
   "execution_count": null,
   "id": "5960335b-85fe-47e3-bad5-55bd39b9aa4a",
   "metadata": {},
   "outputs": [],
   "source": []
  },
  {
   "cell_type": "code",
   "execution_count": null,
   "id": "61b93bb5-ea86-4384-aa9f-c21662609df7",
   "metadata": {
    "tags": []
   },
   "outputs": [],
   "source": [
    "# the error message when you run the code above is called a Traceback and contains the lines run up until the error\n",
    "# you can get the traceback text as a string value using the traceback.format_exc() function\n",
    "import traceback\n",
    "\n",
    "os.chdir('C:\\\\Users\\\\npgreenfield\\\\Documents\\\\files\\\\nick_template\\\\readFiles')\n",
    "try:\n",
    "    raise Exception('This is the error message.')\n",
    "except:\n",
    "    errorFile=open('error_log.txt','a')\n",
    "    errorFile.write(traceback.format_exc())\n",
    "    errorFile.close()\n",
    "    print('The traceback info was written to error_log.txt')"
   ]
  },
  {
   "cell_type": "code",
   "execution_count": null,
   "id": "6e1fd644-1f94-471f-8562-4cd57089e1a4",
   "metadata": {
    "tags": []
   },
   "outputs": [],
   "source": [
    "# an assertion is a sanity check to make sure your code isn't doing something obviously wrong.\n",
    "assert True, 'No error message here'\n",
    "assert False, 'This is the error message'"
   ]
  },
  {
   "cell_type": "code",
   "execution_count": null,
   "id": "cc955ddd-4b1a-4456-8267-e8bc9ea36045",
   "metadata": {
    "tags": []
   },
   "outputs": [],
   "source": [
    "market_2nd = {'ns':'green','ew': 'red'}\n",
    "\n",
    "def switchLights(intersection):\n",
    "    for key in intersection.keys():\n",
    "        if intersection[key]=='green':\n",
    "            intersection[key]='yellow'\n",
    "        elif intersection[key]=='yellow':\n",
    "            intersection[key]='red'\n",
    "        elif intersection[key]=='red':\n",
    "            intersection[key]='green'\n",
    "\n",
    "print(market_2nd)\n",
    "switchLights(market_2nd)\n",
    "print(market_2nd)"
   ]
  },
  {
   "cell_type": "code",
   "execution_count": null,
   "id": "c61fa960-e7e6-4776-8433-208986e1af83",
   "metadata": {
    "tags": []
   },
   "outputs": [],
   "source": [
    "market_2nd = {'ns':'green','ew': 'red'}\n",
    "\n",
    "def switchLights(intersection):\n",
    "    for key in intersection.keys():\n",
    "        if intersection[key]=='green':\n",
    "            intersection[key]='yellow'\n",
    "        elif intersection[key]=='yellow':\n",
    "            intersection[key]='red'\n",
    "        elif intersection[key]=='red':\n",
    "            intersection[key]='green'\n",
    "    # insert a sanity check here... to make sure there is no logic bug\n",
    "    # the assert statement below asserts that the statement always holds true... and if not, there's some bug\n",
    "    assert 'red' in intersection.values(),'Neither light is red! ' + str(intersection)\n",
    "\n",
    "switchLights(market_2nd)"
   ]
  },
  {
   "cell_type": "code",
   "execution_count": null,
   "id": "1305b32e-8e63-4e2f-9570-f95643d689c2",
   "metadata": {},
   "outputs": [],
   "source": [
    "# Logging\n",
    "\n",
    "# 2 lines below are the setup code for logging in python.  don't get caught up in how this works.\n",
    "import logging\n",
    "logging.basicConfig(level=logging.DEBUG, format='%(asctime)s - %(levelname)s - %(message)s')"
   ]
  },
  {
   "cell_type": "code",
   "execution_count": null,
   "id": "eeca2a5d-d087-4f6d-934a-4cc463e62ccb",
   "metadata": {
    "tags": []
   },
   "outputs": [],
   "source": [
    "# factorial function (with a bug)\n",
    "def factorial(n):\n",
    "    total=1\n",
    "    for i in range(n+1):  # bug is here.  need to start at 1, not 0\n",
    "        total *= i\n",
    "    return total\n",
    "\n",
    "# below will return 0 for factorial(5)\n",
    "# we'll use logging to debug\n",
    "print(factorial(5))"
   ]
  },
  {
   "cell_type": "code",
   "execution_count": null,
   "id": "29f7e3b2-166a-4785-be19-1806179792c3",
   "metadata": {
    "tags": []
   },
   "outputs": [],
   "source": [
    "# factorial function (with a bug)... with logging, but disabled if you uncomment disable method\n",
    "import logging\n",
    "\n",
    "logging.basicConfig(level=logging.DEBUG, format='%(asctime)s - %(levelname)s - %(message)s')\n",
    "# logging.disable(logging.CRITICAL) # this line disables the logging at the critical level and down\n",
    "# logging.disable(logging.DEBUG) # this line disables the logging at the debug level and down\n",
    "\n",
    "logging.error('Start of program')\n",
    "\n",
    "def factorial(n):\n",
    "    logging.error('Start of factorial(%s) ' % (n))\n",
    "    total=1\n",
    "    for i in range(1,n+1):   # bug is fixed now\n",
    "        total *= i\n",
    "        logging.debug('i is %s, total is %s' % (i, total))\n",
    "    logging.debug('Return value is %s' % (total))\n",
    "    return total\n",
    "\n",
    "# below will return 0 for factorial(5)\n",
    "# we'll use logging to debug\n",
    "print(factorial(5))\n",
    "\n",
    "logging.error('End of program')"
   ]
  },
  {
   "cell_type": "code",
   "execution_count": null,
   "id": "38461c14-53e2-4c3d-8ed9-ee3ad4b50d74",
   "metadata": {
    "tags": []
   },
   "outputs": [],
   "source": [
    "# same as above, but logging is written to file\n",
    "import logging\n",
    "logging.basicConfig(filename='debugLog.txt',level=logging.DEBUG, format='%(asctime)s - %(levelname)s - %(message)s')\n",
    "\n",
    "logging.debug('Start of program')\n",
    "def factorial(n):\n",
    "    logging.debug('Start of factorial(%s) ' % (n))\n",
    "    total=1\n",
    "    for i in range(1,n+1):   # bug is fixed now\n",
    "        total *= i\n",
    "        logging.debug('i is %s, total is %s' % (i, total))\n",
    "    logging.debug('Return value is %s' % (total))\n",
    "    return total\n",
    "print(factorial(5))\n",
    "logging.debug('End of program')"
   ]
  },
  {
   "cell_type": "code",
   "execution_count": null,
   "id": "061306b6-bf0b-4aed-86f6-f41c3cb65f2d",
   "metadata": {
    "tags": []
   },
   "outputs": [],
   "source": [
    "os.getcwd()"
   ]
  },
  {
   "cell_type": "code",
   "execution_count": null,
   "id": "651abdb6-ebf6-4897-87a9-ef0fcf210cbb",
   "metadata": {},
   "outputs": [],
   "source": [
    "# logging.DEBUG & logging.CRITIAL are 2 of 5 log levels (debug, info, warning, error, critical)"
   ]
  }
 ],
 "metadata": {
  "kernelspec": {
   "display_name": "Python 3 (ipykernel)",
   "language": "python",
   "name": "python3"
  },
  "language_info": {
   "codemirror_mode": {
    "name": "ipython",
    "version": 3
   },
   "file_extension": ".py",
   "mimetype": "text/x-python",
   "name": "python",
   "nbconvert_exporter": "python",
   "pygments_lexer": "ipython3",
   "version": "3.11.5"
  }
 },
 "nbformat": 4,
 "nbformat_minor": 5
}
