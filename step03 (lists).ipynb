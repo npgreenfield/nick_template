{
 "cells": [
  {
   "cell_type": "code",
   "execution_count": null,
   "id": "e5c99e39-3c82-46ed-9566-53f460ffa1ac",
   "metadata": {
    "tags": []
   },
   "outputs": [],
   "source": [
    "# This is a guess the number game.\n",
    "import random\n",
    "print('Hello.  What is your name?')\n",
    "name=input()\n",
    "secretNumber=random.randint(1,20)\n",
    "print('Well, ' + name + ', I am thinking of a number between 1-20')\n",
    "\n",
    "# Ask the player to guess 6 times.\n",
    "for guessesTaken in range(1,7):\n",
    "    print('Take a guess.')\n",
    "    guess=int(input())\n",
    "    if guess < secretNumber:\n",
    "        print('Your guess is too low.')\n",
    "    elif guess > secretNumber:\n",
    "        print('Your guess is too high.')\n",
    "    else:\n",
    "        break # This condition is the correct guess!\n",
    "\n",
    "if guess==secretNumber:\n",
    "  print('Good job, ' + name + '! You guessed my number in ' + str(guessesTaken) + ' guesses taken')\n",
    "else:\n",
    "  print('Nope. The number I was thinking of was ' + str(secretNumber))"
   ]
  },
  {
   "cell_type": "code",
   "execution_count": null,
   "id": "7f26f3c1-9052-47b7-b7e6-6dcdbd6aa034",
   "metadata": {
    "tags": []
   },
   "outputs": [],
   "source": [
    "# Lists (value of values;  values in the list are items and are comma separated)\n",
    "spam=['cat','bat','rat','elephant']\n",
    "spam[0]\n",
    "spam2=[['cat','bat'],[10,20,30,40,50]]\n",
    "spam2[0]\n",
    "spam2[0][1]\n",
    "spam2[1][-1] # negative -1 references the last value in a list, -2 second to last value...\n"
   ]
  },
  {
   "cell_type": "code",
   "execution_count": null,
   "id": "c761fe91-8d0d-487d-a6a6-c06effc2cb9c",
   "metadata": {
    "tags": []
   },
   "outputs": [],
   "source": [
    "# Index = single value\n",
    "# Slice = list of values\n",
    "spam=[10,20,30]\n",
    "spam[1]='Hello' # replaces the 2nd value in spam\n",
    "\n",
    "spam=[10,20,30]\n",
    "spam[1:3]=['CAT','DOG','MOUSE'] # replaces the 2nd & 3rd value and adds a fourth value to spam\n",
    "\n",
    "del spam[1] # deletes the 2nd value in spam\n",
    "spam"
   ]
  },
  {
   "cell_type": "code",
   "execution_count": null,
   "id": "ada45234-1011-450f-8d69-de4243609907",
   "metadata": {
    "tags": []
   },
   "outputs": [],
   "source": [
    "listA = len([1,2,3])\n",
    "listB = [1,2,3] + [4,5,6] # list concatenation -- just like string concatenation\n",
    "listC = [1,2,3]*2\n",
    "print(listA)\n",
    "print(listB)\n",
    "print(listC)"
   ]
  },
  {
   "cell_type": "code",
   "execution_count": null,
   "id": "7c4cbd71-9ca7-4492-8a1b-3becbe9f641e",
   "metadata": {
    "tags": []
   },
   "outputs": [],
   "source": [
    "'howdy' in ['hello','hi','howdy','heyas'] # evaluates to True\n",
    "42 in ['hello','hi','howdy','heyas'] # evaluates to False\n",
    "'howdy' not in ['hello','hi','howdy','heyas'] # evaluates to False"
   ]
  },
  {
   "cell_type": "code",
   "execution_count": null,
   "id": "9eb633b3-ea1a-416c-954a-6b7687642520",
   "metadata": {
    "tags": []
   },
   "outputs": [],
   "source": [
    "# for Loops with Lists\n",
    "# Multiple Assignments\n",
    "# Augmented Assignment Operators\n",
    "for i in range(4): # or for i in [0,1,2,3]:\n",
    "  print(i)"
   ]
  },
  {
   "cell_type": "code",
   "execution_count": null,
   "id": "2235cd50-96f2-4031-bf31-dfb4b33b31c7",
   "metadata": {
    "tags": []
   },
   "outputs": [],
   "source": [
    "# to get the actual list value from a range object, pass the range object to the list function\n",
    "listA = list(range(4))\n",
    "listB = list(range(3,11,2)) # every other value... up to but not including 11\n",
    "print(listA)\n",
    "print(listB)"
   ]
  },
  {
   "cell_type": "code",
   "execution_count": null,
   "id": "e597e5f3-9c0e-47c8-84b7-e65196abcf80",
   "metadata": {},
   "outputs": [],
   "source": [
    "supplies=['pens','staplers','flae-throwers','binders']\n",
    "\n",
    "for i in range(len(supplies)):\n",
    "  print('Index ' + str(i) + ' in supplies is ' + supplies[i])"
   ]
  },
  {
   "cell_type": "code",
   "execution_count": null,
   "id": "d0f61e80-cde3-4bf2-8e72-db42d92ab077",
   "metadata": {
    "tags": []
   },
   "outputs": [],
   "source": [
    "# Multiple Assignment\n",
    "cat = ['fat','orange','loud']\n",
    "size=cat[0];  color=cat[1];  disposition=cat[2]\n",
    "# or\n",
    "size, color, disposition = cat\n",
    "# or\n",
    "size, color, disposition = 'skinny','black','quiet'"
   ]
  },
  {
   "cell_type": "code",
   "execution_count": null,
   "id": "9b9e5944-bf9e-41d3-813b-7d7de8eca1e5",
   "metadata": {},
   "outputs": [],
   "source": [
    "# variable swapping\n",
    "a='AAA'\n",
    "b='BBB'\n",
    "a, b = b, a"
   ]
  },
  {
   "cell_type": "code",
   "execution_count": null,
   "id": "494ca593-7dbc-41de-8189-0a022d40199d",
   "metadata": {
    "tags": []
   },
   "outputs": [],
   "source": [
    "# Augmented Assignment Operators\n",
    "spam=42\n",
    "spam=spam+1 # incrementing spam\n",
    "spam += 1   # incrementing spam using augmented assignment operators\n",
    "# spam +=1\n",
    "# spam -=1\n",
    "# spam *=1\n",
    "# spam /=1\n",
    "# spam %=1\n",
    "spam %=10 # modulus operator\n",
    "spam"
   ]
  },
  {
   "cell_type": "code",
   "execution_count": null,
   "id": "095bfd97-04f2-484c-8483-7f7b3cccbc8f",
   "metadata": {},
   "outputs": [],
   "source": [
    "# List Methods (methods are attached to a value or variable... otherwise, just like a function)\n",
    "spam = ['hello','hi','howdy','heyas']\n",
    "spam.index('hello')"
   ]
  },
  {
   "cell_type": "code",
   "execution_count": null,
   "id": "a5033219-6bdb-4e4a-819b-b53845f23aaf",
   "metadata": {},
   "outputs": [],
   "source": [
    "# to add new values, use the append() and insert() methods (append adds value to the end;  insert is at any point in the list)\n",
    "# the list is modified in place (vs having to assign it back to the variable)\n",
    "spam = ['cat','dog','bat']\n",
    "spam.append('moose')\n",
    "spam.insert(1,'chicken')\n",
    "spam.remove('dog') # allows you to specify a value (the first value) to remove rather than an index\n",
    "spam"
   ]
  },
  {
   "cell_type": "code",
   "execution_count": null,
   "id": "bca8b79e-eb47-457f-91b1-da028a0b7c45",
   "metadata": {},
   "outputs": [],
   "source": [
    "spam=[2,5,3.14,1,-7] # or spam['ants','cats','dogs','badgers','elephants']\n",
    "spam.sort() # or spam.sort(reverse=True) # keyword argument reverse\n",
    "spam"
   ]
  },
  {
   "cell_type": "code",
   "execution_count": null,
   "id": "fa24cd2d-bf17-4458-8f51-f26ed8997742",
   "metadata": {},
   "outputs": [],
   "source": [
    "spam=['Alice','Bob','ants','badgers','Carol','cats']\n",
    "spam.sort() # uppercase letters come before lowercase\n",
    "spam"
   ]
  },
  {
   "cell_type": "code",
   "execution_count": null,
   "id": "ca44db78-1846-4fe6-aa10-de135dbcabbe",
   "metadata": {},
   "outputs": [],
   "source": [
    "# similarities between lists and strings (index, slice, for loops, etc)\n",
    "# lists are mutable (can be changed);  strings are immutable (you can't re-assign letters in a string)\n",
    "name='Zophie';   name[0];   name[1:3];   name[-2]\n",
    "'Zo' in name\n",
    "# create a new string using slices to change it\n",
    "name='Zophie a cat'\n",
    "newName=name[0:7] + 'the' + name[8:12]\n",
    "newName"
   ]
  },
  {
   "cell_type": "code",
   "execution_count": null,
   "id": "5b9b1193-c9ec-4e15-82fa-d6a556aa1efd",
   "metadata": {
    "tags": []
   },
   "outputs": [],
   "source": [
    "# when you assign a list to a variable, you're assigning the reference to the list.\n",
    "# so if you change the variable, the list will reflect the change.\n",
    "spam=[0,1,2,3,4,5] # technically, spam reflects a reference to a list of numbers\n",
    "cheese=spam # cheese is referencing the same list as spam\n",
    "cheese[1]='Hello!'\n",
    "spam # note how spam is updated when you change anything related to"
   ]
  },
  {
   "cell_type": "code",
   "execution_count": null,
   "id": "10dbc9b9-289d-4af3-83bf-edec71272f80",
   "metadata": {
    "tags": []
   },
   "outputs": [],
   "source": [
    "def eggs(someParameter):\n",
    "  someParameter.append('Hello')\n",
    "\n",
    "spam=[1,2,3]\n",
    "eggs(spam)\n",
    "print(spam)"
   ]
  },
  {
   "cell_type": "code",
   "execution_count": null,
   "id": "940e700f-c789-486d-928d-59119208dc66",
   "metadata": {
    "tags": []
   },
   "outputs": [],
   "source": [
    "import copy\n",
    "spam=['A','B','C','D']\n",
    "cheese=copy.deepcopy(spam) # creates a brand new list based off the values of spam... so if you change cheese, the list spam references is unaffected\n",
    "cheese[1]=42\n",
    "cheese"
   ]
  },
  {
   "cell_type": "code",
   "execution_count": null,
   "id": "b2ece432-117a-48e4-b179-690c3a89f96c",
   "metadata": {
    "tags": []
   },
   "outputs": [],
   "source": [
    "spam=['apple',\n",
    "      'oranges',\n",
    "      'bananas',\n",
    "      'cats']\n",
    "spam"
   ]
  },
  {
   "cell_type": "code",
   "execution_count": null,
   "id": "f3053dfe-564b-4d68-8895-81cafed791ec",
   "metadata": {
    "tags": []
   },
   "outputs": [],
   "source": [
    "print('Four score and seven ' +\n",
    "      'years ago')"
   ]
  },
  {
   "cell_type": "code",
   "execution_count": null,
   "id": "f8e4d291-1779-42ce-8f3a-acf618149e0d",
   "metadata": {},
   "outputs": [],
   "source": [
    "# common list methods (all operate on the list \"in place\"): index, append, insert, remove, sort"
   ]
  }
 ],
 "metadata": {
  "kernelspec": {
   "display_name": "Python 3 (ipykernel)",
   "language": "python",
   "name": "python3"
  },
  "language_info": {
   "codemirror_mode": {
    "name": "ipython",
    "version": 3
   },
   "file_extension": ".py",
   "mimetype": "text/x-python",
   "name": "python",
   "nbconvert_exporter": "python",
   "pygments_lexer": "ipython3",
   "version": "3.11.5"
  }
 },
 "nbformat": 4,
 "nbformat_minor": 5
}
