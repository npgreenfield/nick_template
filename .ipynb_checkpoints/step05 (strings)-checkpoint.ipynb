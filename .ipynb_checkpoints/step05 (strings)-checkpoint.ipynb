{
 "cells": [
  {
   "cell_type": "code",
   "execution_count": 1,
   "id": "7928f199-a380-46bd-9ba5-bd262afd4040",
   "metadata": {
    "tags": []
   },
   "outputs": [
    {
     "data": {
      "text/plain": [
       "[{'name': 'Zophie', 'age': 7, 'color': 'gray'},\n",
       " {'name': 'Pooka', 'age': 5, 'color': 'black'},\n",
       " {'name': 'Fat-tail', 'age': 8, 'color': 'green'}]"
      ]
     },
     "execution_count": 1,
     "metadata": {},
     "output_type": "execute_result"
    }
   ],
   "source": [
    "# Data Structures\n",
    "cat = {'name': 'Zophie', 'age': 7, 'color': 'gray'}\n",
    "# now create a list of dictionaries\n",
    "allCats=[]\n",
    "allCats.append({'name': 'Zophie', 'age': 7, 'color': 'gray'})\n",
    "allCats.append({'name': 'Pooka', 'age': 5, 'color': 'black'})\n",
    "allCats.append({'name': 'Fat-tail', 'age': 8, 'color': 'green'})\n",
    "allCats"
   ]
  },
  {
   "cell_type": "code",
   "execution_count": 2,
   "id": "1e847e04-12f4-49e1-8a41-aa5840c4f65a",
   "metadata": {
    "tags": []
   },
   "outputs": [
    {
     "name": "stdout",
     "output_type": "stream",
     "text": [
      "Hello there!\n",
      "How are you?\n",
      "I'm fine.\n"
     ]
    }
   ],
   "source": [
    "\"That is Alice's cat.\"\n",
    "# use escape characters when you want to put both single and double quotes into a string\n",
    "# enter backslash followed by a letter representing which character you want to escape from the string\n",
    "\n",
    "# \\'  single quote\n",
    "# \\\"  double quote\n",
    "# \\t  tab\n",
    "# \\n  newline (line break)\n",
    "# \\\\  backslash\n",
    "\n",
    "# example below\n",
    "'Say hi to Bob\\'s mother.'\n",
    "# another example below\n",
    "print('Hello there!\\nHow are you?\\nI\\'m fine.')"
   ]
  },
  {
   "cell_type": "code",
   "execution_count": 3,
   "id": "cad32503-92dd-47fc-a7ea-81e7cfa06151",
   "metadata": {
    "tags": []
   },
   "outputs": [
    {
     "name": "stdout",
     "output_type": "stream",
     "text": [
      "That is Carol\\'s cat.\n"
     ]
    }
   ],
   "source": [
    "# raw string (starts with lowercase r and what follows will ignore the backslash escape character)\n",
    "print(r'That is Carol\\'s cat.')"
   ]
  },
  {
   "cell_type": "code",
   "execution_count": 4,
   "id": "02cb22cc-1698-4470-872e-13beadb072ba",
   "metadata": {
    "tags": []
   },
   "outputs": [
    {
     "name": "stdout",
     "output_type": "stream",
     "text": [
      "Dear Alice,\n",
      "Eve's cat has been arrested for catnapping, cat burglary,\n",
      "and extortion.\n",
      "Sincerely,\n",
      "Bob.\n"
     ]
    }
   ],
   "source": [
    "# a multiline string begins with either three single or three double quote characters\n",
    "spam=\"\"\"Dear Alice,\n",
    "Eve's cat has been arrested for catnapping, cat burglary,\n",
    "and extortion.\n",
    "Sincerely,\n",
    "Bob.\"\"\"\n",
    "print(spam)"
   ]
  },
  {
   "cell_type": "code",
   "execution_count": 5,
   "id": "2a53e543-b67b-4a11-8f71-c8d66e5afadc",
   "metadata": {
    "tags": []
   },
   "outputs": [
    {
     "name": "stdout",
     "output_type": "stream",
     "text": [
      "100\n"
     ]
    }
   ],
   "source": [
    "print(len(spam))"
   ]
  },
  {
   "cell_type": "code",
   "execution_count": 6,
   "id": "a0122a90-1890-48f0-a37d-a7d5ea89c5ea",
   "metadata": {
    "tags": []
   },
   "outputs": [
    {
     "data": {
      "text/plain": [
       "'HELLO WORLD!'"
      ]
     },
     "execution_count": 6,
     "metadata": {},
     "output_type": "execute_result"
    }
   ],
   "source": [
    "# String Methods (which return a new string value rather than modify the string in place... since strings are immutable)\n",
    "spam='Hello world!'\n",
    "spam.upper() # lower()"
   ]
  },
  {
   "cell_type": "code",
   "execution_count": null,
   "id": "e8d4aa3c-4d05-4e09-aae0-40583ee75972",
   "metadata": {},
   "outputs": [],
   "source": [
    "answer = input()\n",
    "if answer.lower() == 'yes':\n",
    "  print('playing again')"
   ]
  },
  {
   "cell_type": "code",
   "execution_count": 7,
   "id": "93d5dad4-9a71-460d-8db2-f007473bb955",
   "metadata": {
    "tags": []
   },
   "outputs": [
    {
     "data": {
      "text/plain": [
       "False"
      ]
     },
     "execution_count": 7,
     "metadata": {},
     "output_type": "execute_result"
    }
   ],
   "source": [
    "spam='Hello world!'\n",
    "spam.upper() # lower()\n",
    "spam.islower() # are all the characters lowercase"
   ]
  },
  {
   "cell_type": "code",
   "execution_count": 8,
   "id": "87c790c3-b976-4cbd-a993-c40167f22661",
   "metadata": {
    "tags": []
   },
   "outputs": [
    {
     "data": {
      "text/plain": [
       "True"
      ]
     },
     "execution_count": 8,
     "metadata": {},
     "output_type": "execute_result"
    }
   ],
   "source": [
    "'Hello'.upper().isupper() # evaluates to true"
   ]
  },
  {
   "cell_type": "code",
   "execution_count": 9,
   "id": "aa0489db-5789-4f23-ad18-b7c1c0963b59",
   "metadata": {
    "tags": []
   },
   "outputs": [
    {
     "name": "stdout",
     "output_type": "stream",
     "text": [
      "True\n",
      "Hello World\n"
     ]
    }
   ],
   "source": [
    "# isalpha()   letters only\n",
    "# isalnum()   letters and numbers only\n",
    "# isdecimal() numbers only\n",
    "# isspace()   whitespace only\n",
    "# istitle()   titlecase only (words that begin with uppercase letters and all other letters are lowercase)\n",
    "print('Hello There Nick'.istitle())\n",
    "# turns the string below into a title\n",
    "print('hello world'.title())"
   ]
  },
  {
   "cell_type": "code",
   "execution_count": 10,
   "id": "f046af5e-beb0-49f1-820c-ad448dfba78d",
   "metadata": {
    "tags": []
   },
   "outputs": [
    {
     "data": {
      "text/plain": [
       "True"
      ]
     },
     "execution_count": 10,
     "metadata": {},
     "output_type": "execute_result"
    }
   ],
   "source": [
    "'Hello world'.startswith('Hello') # endswith() method also"
   ]
  },
  {
   "cell_type": "code",
   "execution_count": 11,
   "id": "06d18bd4-f8c9-4dd1-8623-8f4a129ff612",
   "metadata": {
    "tags": []
   },
   "outputs": [
    {
     "data": {
      "text/plain": [
       "'cats,rats,bats'"
      ]
     },
     "execution_count": 11,
     "metadata": {},
     "output_type": "execute_result"
    }
   ],
   "source": [
    "# join() method\n",
    "','.join(['cats','rats','bats'])"
   ]
  },
  {
   "cell_type": "code",
   "execution_count": 12,
   "id": "1a21f7e5-1b82-4ddd-b1b8-83c7cbbee7d6",
   "metadata": {
    "tags": []
   },
   "outputs": [
    {
     "data": {
      "text/plain": [
       "['My', 'name', 'is', 'Simon!']"
      ]
     },
     "execution_count": 12,
     "metadata": {},
     "output_type": "execute_result"
    }
   ],
   "source": [
    "# split() method\n",
    "'My name is Simon!'.split() # default split is on whitespace characters"
   ]
  },
  {
   "cell_type": "code",
   "execution_count": 13,
   "id": "e85b9212-70b4-4fc4-a547-ec248393f0d0",
   "metadata": {
    "tags": []
   },
   "outputs": [
    {
     "data": {
      "text/plain": [
       "['My na', 'e is Si', 'on!']"
      ]
     },
     "execution_count": 13,
     "metadata": {},
     "output_type": "execute_result"
    }
   ],
   "source": [
    "'My name is Simon!'.split('m')"
   ]
  },
  {
   "cell_type": "code",
   "execution_count": 14,
   "id": "6cce4fdf-3273-4a7a-9d28-ad082a92688a",
   "metadata": {
    "tags": []
   },
   "outputs": [
    {
     "data": {
      "text/plain": [
       "'=======Nick Greenfield========'"
      ]
     },
     "execution_count": 14,
     "metadata": {},
     "output_type": "execute_result"
    }
   ],
   "source": [
    "#  ljust() method returns a padded string with spaces to left or right justify the text\n",
    "'Hello'.rjust(10) # the method inserts enough spaces to the left of Hello such that the total length is 10 characters\n",
    "'Hello'.ljust(10) # the method inserts enough spaces to the right of Hello such that the total length is 10 characters\n",
    "'Hello'.ljust(10,'*') # same as above but instead of whitespaces, the asterick will be inserted\n",
    "'Hello'.center(20)\n",
    "'Hello'.center(20,'*')\n",
    "'Nick Greenfield'.center(30,'=')"
   ]
  },
  {
   "cell_type": "code",
   "execution_count": 15,
   "id": "bd45c2ab-5e02-444c-b071-0a80184ef9d0",
   "metadata": {
    "tags": []
   },
   "outputs": [
    {
     "data": {
      "text/plain": [
       "'ick Greenfiel'"
      ]
     },
     "execution_count": 15,
     "metadata": {},
     "output_type": "execute_result"
    }
   ],
   "source": [
    "spam='Hello'.rjust(10)\n",
    "spam.strip()  # there's also lstrip() and rstrip()\n",
    "'Nick Greenfield'.center(30,'=').strip('Nd=') # strips from the ends Nd="
   ]
  },
  {
   "cell_type": "code",
   "execution_count": 16,
   "id": "68296e52-4b43-4c9f-95be-9162147008bc",
   "metadata": {
    "tags": []
   },
   "outputs": [
    {
     "data": {
      "text/plain": [
       "'HXYZllo thXYZrXYZ!'"
      ]
     },
     "execution_count": 16,
     "metadata": {},
     "output_type": "execute_result"
    }
   ],
   "source": [
    "spam='Hello there!'\n",
    "spam.replace('e','XYZ')"
   ]
  },
  {
   "cell_type": "code",
   "execution_count": 17,
   "id": "f96272db-7a61-48c0-a28b-ab8cef721eb5",
   "metadata": {
    "tags": []
   },
   "outputs": [
    {
     "data": {
      "text/plain": [
       "'Hello Alice, you are invited to a party at Main Street at 6 pm.  Please bring turnips.'"
      ]
     },
     "execution_count": 17,
     "metadata": {},
     "output_type": "execute_result"
    }
   ],
   "source": [
    "# String Formatting\n",
    "\n",
    "name='Alice'\n",
    "place='Main Street'\n",
    "time='6 pm'\n",
    "food='turnips'\n",
    "'Hello ' + name + ', you are invited to a party at ' + place + ' at ' + time + '. Please bring ' + food + '.'\n",
    "# or\n",
    "'Hello %s, you are invited to a party at %s at %s.  Please bring %s.' %(name,place,time,food)"
   ]
  }
 ],
 "metadata": {
  "kernelspec": {
   "display_name": "Python 3 (ipykernel)",
   "language": "python",
   "name": "python3"
  },
  "language_info": {
   "codemirror_mode": {
    "name": "ipython",
    "version": 3
   },
   "file_extension": ".py",
   "mimetype": "text/x-python",
   "name": "python",
   "nbconvert_exporter": "python",
   "pygments_lexer": "ipython3",
   "version": "3.11.5"
  }
 },
 "nbformat": 4,
 "nbformat_minor": 5
}
