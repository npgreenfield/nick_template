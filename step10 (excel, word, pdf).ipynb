{
 "cells": [
  {
   "cell_type": "code",
   "execution_count": null,
   "id": "fe2db217-d2b5-4709-860c-71291bde0b06",
   "metadata": {
    "tags": []
   },
   "outputs": [],
   "source": [
    "import os\n",
    "os.chdir('c:\\\\users\\\\npgreenfield\\\\Documents\\\\files\\\\nick_template\\\\readFiles')\n",
    "os.getcwd()"
   ]
  },
  {
   "cell_type": "code",
   "execution_count": null,
   "id": "bacca26b-26fe-4a42-91f3-97b3512481cd",
   "metadata": {
    "tags": []
   },
   "outputs": [],
   "source": [
    "# reading excel spreadsheets\n",
    "\n",
    "import openpyxl\n",
    "workbook=openpyxl.load_workbook('example.xlsx')\n",
    "sheet=workbook['Sheet1']\n",
    "workbook.sheetnames"
   ]
  },
  {
   "cell_type": "code",
   "execution_count": null,
   "id": "f73ee158-c151-4b99-852b-1da669dad54d",
   "metadata": {
    "tags": []
   },
   "outputs": [],
   "source": [
    "cell=sheet['A1']\n",
    "print(str(cell.value))\n",
    "print(cell.value)\n",
    "cell.value"
   ]
  },
  {
   "cell_type": "code",
   "execution_count": null,
   "id": "fae37b40-f563-4959-8392-4d2f6f5409a5",
   "metadata": {},
   "outputs": [],
   "source": [
    "cell=sheet['A1']\n",
    "print(str(cell.value))\n",
    "print(cell.value)\n",
    "cell.value"
   ]
  },
  {
   "cell_type": "code",
   "execution_count": null,
   "id": "f09a1686-d0c3-49de-92c1-20ce344d8349",
   "metadata": {
    "tags": []
   },
   "outputs": [],
   "source": [
    "for i in range(1,8):\n",
    "    print(i,sheet.cell(row=i,column=2).value)"
   ]
  },
  {
   "cell_type": "code",
   "execution_count": null,
   "id": "432b257e-3ea6-43fa-be2e-87a478afc91b",
   "metadata": {
    "tags": []
   },
   "outputs": [],
   "source": [
    "import os\n",
    "os.chdir('c:\\\\users\\\\npgreenfield\\\\Documents\\\\files\\\\nick_template\\\\readFiles')\n",
    "os.getcwd()\n",
    "\n",
    "# create and modify excel spreadsheets\n",
    "\n",
    "import openpyxl\n",
    "wb=openpyxl.Workbook()\n",
    "print(wb.sheetnames)\n",
    "sheet=wb['Sheet']\n",
    "sheet['A1']=42\n",
    "sheet['A2']='Hello'\n",
    "wb.save('example2.xlsx')\n",
    "\n",
    "sheet2=wb.create_sheet()\n",
    "sheet2.title='My New Sheet Name'\n",
    "wb.save('example3.xlsx')\n",
    "wb.create_sheet(index=0,title='My Other Sheet')\n",
    "wb.save('example4.xlsx')\n",
    "print(wb.sheetnames)"
   ]
  },
  {
   "cell_type": "code",
   "execution_count": null,
   "id": "e92c00d9-3077-4974-a41f-0bc84fe736bd",
   "metadata": {},
   "outputs": [],
   "source": []
  },
  {
   "cell_type": "code",
   "execution_count": null,
   "id": "5075545d-fbbb-416b-a1c4-c6ddf85a2233",
   "metadata": {},
   "outputs": [],
   "source": [
    "# reading & editing pdfs"
   ]
  },
  {
   "cell_type": "code",
   "execution_count": null,
   "id": "6927eea5-5150-42bd-ae58-42be59441952",
   "metadata": {
    "tags": []
   },
   "outputs": [],
   "source": [
    "import os\n",
    "os.chdir('c:\\\\users\\\\npgreenfield\\\\Documents\\\\files\\\\nick_template\\\\readFiles')\n",
    "os.getcwd()\n",
    "\n",
    "# third party package that can extract text and return as a python string\n",
    "import PyPDF2\n",
    "pdfFile=open('meetingminutes1.pdf','rb') # open in read binary mode\n",
    "reader=PyPDF2.PdfReader(pdfFile)\n",
    "# len(reader.pages)\n",
    "page=reader.pages[0]\n",
    "page.extract_text()"
   ]
  },
  {
   "cell_type": "code",
   "execution_count": null,
   "id": "31254c26-c1ce-4fa6-8687-1ece722ffe08",
   "metadata": {
    "tags": []
   },
   "outputs": [],
   "source": [
    "len(reader.pages)"
   ]
  },
  {
   "cell_type": "code",
   "execution_count": null,
   "id": "e84a6752-4889-4fdb-90ce-cd280f49a6ab",
   "metadata": {
    "tags": []
   },
   "outputs": [],
   "source": [
    "for pageNum in range(len(reader.pages)):\n",
    "    if pageNum==7:\n",
    "        print(reader.pages[pageNum].extract_text())"
   ]
  },
  {
   "cell_type": "code",
   "execution_count": null,
   "id": "1ef91c6e-499c-48d0-951b-4b87f7edf0d5",
   "metadata": {
    "tags": []
   },
   "outputs": [],
   "source": [
    "# combine pdfs\n",
    "\n",
    "import PyPDF2\n",
    "pdf1File=open('meetingminutes1.pdf','rb')\n",
    "pdf2File=open('meetingminutes2.pdf','rb')\n",
    "reader1=PyPDF2.PdfReader(pdf1File)\n",
    "reader2=PyPDF2.PdfReader(pdf2File)\n",
    "\n",
    "writer=PyPDF2.PdfWriter() # blank new pdf with no pages\n",
    "\n",
    "# loop\n",
    "for pageNum in range(len(reader1.pages)):\n",
    "    page=reader1.pages[pageNum]\n",
    "    writer.add_page(page)\n",
    "for pageNum in range(len(reader2.pages)):\n",
    "    page=reader2.pages[pageNum]\n",
    "    writer.add_page(page)\n",
    "\n",
    "outputFile=open('combinedminutes.pdf','wb') # write binary mode\n",
    "writer.write(outputFile)\n",
    "outputFile.close()\n",
    "pdf1File.close()\n",
    "pdf2File.close()"
   ]
  },
  {
   "cell_type": "code",
   "execution_count": null,
   "id": "f331c7d8-add9-4e0e-9f82-9664a6fed702",
   "metadata": {},
   "outputs": [],
   "source": []
  },
  {
   "cell_type": "code",
   "execution_count": null,
   "id": "a16cfeaa-c89e-42ab-939b-59408a77e28d",
   "metadata": {
    "tags": []
   },
   "outputs": [],
   "source": [
    "# create and modify word documents\n",
    "!pip install python-docx\n",
    "\n",
    "import docx\n"
   ]
  },
  {
   "cell_type": "code",
   "execution_count": null,
   "id": "9f7a6c60-12fe-430c-92bf-01ebf662525b",
   "metadata": {
    "tags": []
   },
   "outputs": [],
   "source": [
    "d=docx.Document('demo.docx')\n",
    "d.paragraphs[0].text\n",
    "p=d.paragraphs[1]\n",
    "# there are runs for every change in style in an object\n",
    "print(p.runs[0].text)\n",
    "print(p.runs[1].text)\n",
    "print(p.runs[2].text)\n",
    "print(p.runs[3].text)"
   ]
  },
  {
   "cell_type": "code",
   "execution_count": null,
   "id": "8331e8b4-81fa-4aca-9a77-2392ab9b6d01",
   "metadata": {
    "tags": []
   },
   "outputs": [],
   "source": [
    "# check to see if runs[1] has the bold attribute set to True or None\n",
    "p.runs[1].bold\n",
    "p.runs[3].italic\n",
    "\n",
    "p.runs[3].underline=True\n",
    "p.runs[3].text='italic and underlined.'\n",
    "\n",
    "d.save('demo2.docx')\n",
    "\n",
    "p.style='Title'\n",
    "d.save('demo3.docx')"
   ]
  },
  {
   "cell_type": "code",
   "execution_count": null,
   "id": "6b953770-5724-4a9e-9294-d8acc3e85bbd",
   "metadata": {
    "tags": []
   },
   "outputs": [],
   "source": [
    "# create brand new word doc\n",
    "d=docx.Document()\n",
    "d.add_paragraph('Hello this is a paragraph')\n",
    "d.add_paragraph('This is another paragraph')\n",
    "d.save('demo4.docx')\n",
    "\n",
    "p=d.paragraphs[0]\n",
    "p.add_run('This is a new run.')\n",
    "p.runs[1].bold=True\n",
    "d.save('demo5.docx')"
   ]
  },
  {
   "cell_type": "code",
   "execution_count": null,
   "id": "4312277f-f05f-4daf-b92f-38065951a9fc",
   "metadata": {},
   "outputs": [],
   "source": [
    "import docx\n",
    "\n",
    "def getText(filename):\n",
    "    doc=docx.Document(filename)\n",
    "    fullText=[]\n",
    "    for para in doc.paragraphs:\n",
    "        fullText.append(para.text)\n",
    "    return '\\n'.join(fullText)\n",
    "\n",
    "print(getText('demo.docx'))"
   ]
  }
 ],
 "metadata": {
  "kernelspec": {
   "display_name": "Python 3 (ipykernel)",
   "language": "python",
   "name": "python3"
  },
  "language_info": {
   "codemirror_mode": {
    "name": "ipython",
    "version": 3
   },
   "file_extension": ".py",
   "mimetype": "text/x-python",
   "name": "python",
   "nbconvert_exporter": "python",
   "pygments_lexer": "ipython3",
   "version": "3.11.5"
  }
 },
 "nbformat": 4,
 "nbformat_minor": 5
}
