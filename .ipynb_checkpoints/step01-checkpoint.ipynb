{
 "cells": [
  {
   "cell_type": "code",
   "execution_count": null,
   "id": "d074e8a3-6ff9-492e-a3c9-350dd19cfacc",
   "metadata": {},
   "outputs": [],
   "source": [
    "# this program asks for my name\n",
    "\n",
    "print('What is your name?') # ask for their name\n",
    "myName=input()\n",
    "print('It is good to meet you, ' + myName)\n",
    "print('The length of your name is: ')\n",
    "print(len(myName))\n",
    "print('What is your age?') # ask for their age\n",
    "myAge=input()\n",
    "print('You will be ' + str(int(myAge)+1) + ' in a year.')"
   ]
  },
  {
   "cell_type": "code",
   "execution_count": 1,
   "id": "45185d21-8bb6-486a-8d26-9d2307776c48",
   "metadata": {},
   "outputs": [
    {
     "name": "stdout",
     "output_type": "stream",
     "text": [
      "all other conditions\n"
     ]
    }
   ],
   "source": [
    "name='Bob'\n",
    "age=3000\n",
    "if name=='Alice':\n",
    "    print('Hi Alice')\n",
    "elif age < 12:\n",
    "    print('You are not Alice, kiddo.')\n",
    "else:\n",
    "    print(\"all other conditions\")"
   ]
  },
  {
   "cell_type": "code",
   "execution_count": 2,
   "id": "9f459d6c-71ea-4898-84d3-2906180fd580",
   "metadata": {},
   "outputs": [
    {
     "name": "stdout",
     "output_type": "stream",
     "text": [
      "Enter a name:\n"
     ]
    },
    {
     "name": "stdin",
     "output_type": "stream",
     "text": [
      " Nick\n"
     ]
    },
    {
     "name": "stdout",
     "output_type": "stream",
     "text": [
      "Thank you for entering a name.\n"
     ]
    }
   ],
   "source": [
    "print('Enter a name:')\n",
    "name=input()\n",
    "if name:\n",
    "  print('Thank you for entering a name.')\n",
    "else:\n",
    "  print('You did not enter a name.')"
   ]
  },
  {
   "cell_type": "code",
   "execution_count": null,
   "id": "a40d61be-64b2-46b2-b343-055cb1ed102b",
   "metadata": {},
   "outputs": [],
   "source": [
    "# While loops that iterates 5 times\n",
    "spam=0\n",
    "while spam<5:\n",
    "  print('Hello World')\n",
    "  spam=spam+1"
   ]
  },
  {
   "cell_type": "code",
   "execution_count": null,
   "id": "b7aaf716-96f8-4ecd-b23a-d291c6dc9071",
   "metadata": {},
   "outputs": [],
   "source": [
    "# this program will run until you enter 'your name'\n",
    "name=''\n",
    "while name!='Nick':\n",
    "  print('Please type your name.')\n",
    "  name=input()\n",
    "print('Thank you!')"
   ]
  },
  {
   "cell_type": "code",
   "execution_count": null,
   "id": "af9888e0-2c7d-4151-86ae-0c8200e2fd09",
   "metadata": {},
   "outputs": [],
   "source": [
    "name=''\n",
    "while True:\n",
    "  print('Please type your name:')\n",
    "  name=input()\n",
    "  if name=='your name':\n",
    "    break\n",
    "print('Thank you!')"
   ]
  },
  {
   "cell_type": "code",
   "execution_count": null,
   "id": "94820270-1c86-456b-b7cd-666daad1453e",
   "metadata": {},
   "outputs": [],
   "source": [
    "# here, a continue statement causes the execution to immediately jump back to the start of the loop and re-check the condition\n",
    "spam=0\n",
    "while spam<5:\n",
    "  spam=spam+1\n",
    "  if spam==3:\n",
    "    continue\n",
    "  print('spam is ' + str(spam))"
   ]
  },
  {
   "cell_type": "code",
   "execution_count": null,
   "id": "032efcbf-bede-45b9-8921-3a4cc5266dec",
   "metadata": {},
   "outputs": [],
   "source": [
    "# for loops\n",
    "print('My name is')\n",
    "for i in range(5):\n",
    "  print('Jimmy Five Times '+str(i))"
   ]
  },
  {
   "cell_type": "code",
   "execution_count": null,
   "id": "4bd31780-822e-4dff-9b98-f61b723c1c38",
   "metadata": {},
   "outputs": [],
   "source": [
    "print('My name is')\n",
    "for i in range(0,10,2):\n",
    "  print('Jimmy Five Times '+str(i))"
   ]
  }
 ],
 "metadata": {
  "kernelspec": {
   "display_name": "Python 3 (ipykernel)",
   "language": "python",
   "name": "python3"
  },
  "language_info": {
   "codemirror_mode": {
    "name": "ipython",
    "version": 3
   },
   "file_extension": ".py",
   "mimetype": "text/x-python",
   "name": "python",
   "nbconvert_exporter": "python",
   "pygments_lexer": "ipython3",
   "version": "3.11.5"
  }
 },
 "nbformat": 4,
 "nbformat_minor": 5
}
