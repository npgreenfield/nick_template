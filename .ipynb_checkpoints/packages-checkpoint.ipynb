{
 "cells": [
  {
   "cell_type": "code",
   "execution_count": 21,
   "id": "fa16386a-0638-471b-b51e-bd26c78e00e8",
   "metadata": {},
   "outputs": [],
   "source": [
    "import re\n",
    "import pprint\n",
    "import random\n",
    "import copy\n",
    "import webbrowser\n",
    "import sys\n",
    "import requests\n",
    "import bs4\n",
    "import traceback\n",
    "import os\n",
    "import logging\n",
    "import pdb\n",
    "import openpyxl\n",
    "import smtplib\n",
    "import datetime"
   ]
  },
  {
   "cell_type": "code",
   "execution_count": null,
   "id": "338920ce-1625-4870-9ca1-2046556b856d",
   "metadata": {},
   "outputs": [],
   "source": [
    "# install third party modules using pip\n",
    "!pip install pyperclip\n",
    "!pip install selenium\n",
    "!pip install drive\n",
    "!pip install docx\n",
    "!pip install pyzmail\n",
    "!pip install PyPDF2\n",
    "!pip install imapclient\n",
    "!pip install pyzmail36"
   ]
  }
 ],
 "metadata": {
  "kernelspec": {
   "display_name": "Python 3 (ipykernel)",
   "language": "python",
   "name": "python3"
  },
  "language_info": {
   "codemirror_mode": {
    "name": "ipython",
    "version": 3
   },
   "file_extension": ".py",
   "mimetype": "text/x-python",
   "name": "python",
   "nbconvert_exporter": "python",
   "pygments_lexer": "ipython3",
   "version": "3.11.5"
  }
 },
 "nbformat": 4,
 "nbformat_minor": 5
}
