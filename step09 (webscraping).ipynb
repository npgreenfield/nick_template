{
 "cells": [
  {
   "cell_type": "code",
   "execution_count": null,
   "id": "6217771c-62af-4d70-a200-c75503df5529",
   "metadata": {
    "tags": []
   },
   "outputs": [],
   "source": [
    "import webbrowser\n",
    "webbrowser.open('https://automatetheboringstuff.com')"
   ]
  },
  {
   "cell_type": "code",
   "execution_count": null,
   "id": "12181720-370e-4262-a128-04c2f67a5830",
   "metadata": {
    "tags": []
   },
   "outputs": [],
   "source": [
    "import webbrowser, sys,pyperclip\n",
    "\n",
    "def goToAddress(address):\n",
    "    sys.argv # ['mapit.py', '870', 'Valencia', 'St.']\n",
    "    # check if command line arguments were passed\n",
    "    '''\n",
    "    if len(sys.argv) > 1:\n",
    "        # ['mapit.py', '870', 'Valencia', 'St.'] -> '870 Valencia St.'\n",
    "        address = \" \".join(sys.argv[1:])\n",
    "    else:\n",
    "        address = pyperclip.paste()\n",
    "    '''\n",
    "    webbrowser.open('https://www.google.com/maps/place/' + address)"
   ]
  },
  {
   "cell_type": "code",
   "execution_count": null,
   "id": "2c561fc5-0421-4cc1-bc83-1851bb81f2c5",
   "metadata": {
    "tags": []
   },
   "outputs": [],
   "source": [
    "goToAddress('290 West End Avenue')"
   ]
  },
  {
   "cell_type": "code",
   "execution_count": null,
   "id": "1eb24e45-3a7e-4689-a3af-5338ef7e5253",
   "metadata": {
    "tags": []
   },
   "outputs": [],
   "source": [
    "import requests, os\n",
    "\n",
    "os.getcwd()\n",
    "\n",
    "res = requests.get('https://automatetheboringstuff.com/files/rj.txt')\n",
    "res.status_code  # 404 means file not found;  200 means everything went ok\n",
    "res.raise_for_status() # this will allow us to create exceptions for a failed download\n",
    "#len(res.text)\n",
    "#print(res.text[:500])\n",
    "playFile = open('RomeoAndJuliet.txt','wb') # writes out the file in unicode format (write binary) \n",
    "for chunk in res.iter_content(100000):\n",
    "    playFile.write(chunk)\n",
    "playFile.close()"
   ]
  },
  {
   "cell_type": "code",
   "execution_count": null,
   "id": "ce31af46-6800-4d12-ab45-bf4f93efcc6a",
   "metadata": {
    "tags": []
   },
   "outputs": [],
   "source": []
  },
  {
   "cell_type": "code",
   "execution_count": 76,
   "id": "6090de3c-dd39-44bd-8a3e-7ba64ef2ae3e",
   "metadata": {
    "tags": []
   },
   "outputs": [],
   "source": [
    "# Parsing HTML with the Beautiful Soup Module\n",
    "\n",
    "# to inspect elements of a web page, Right-click any part of the page and choose Inspect Element\n",
    "# as you hover over elements, you'll see what part of the page different elements are responsible for\n",
    "# or select a section of the page, right click and choose Inspect Element\n",
    "# we must parse the HTML, which is easy with Beautiful Soup\n",
    "\n",
    "# import Beautiful Soup 4\n",
    "# next, go to the url in a separate browser window:\n",
    "# https://www.amazon.com/Automate-Boring-Stuff-Python-Programming/dp/1593275994/\n",
    "\n",
    "import bs4\n",
    "import requests # handles the actual downloaded\n",
    "#res=requests.get('https://www.amazon.com/Automate-Boring-Stuff-Python-Programming/dp/1593275994/')\n",
    "res=requests.get('https://colleges.wearecollegetennis.com/rankings?gender=M&divisionType=DIV1&matchFormat=TEAM&date=2024-02-07')\n",
    "#res.status_code\n",
    "res.raise_for_status()\n",
    "soup = bs4.BeautifulSoup(res.text,'html.parser')\n",
    "\n",
    "# select/hilite something on the web page we want to inspect, and inspect it.\n",
    "# then right click on the element and choose \"copy->selector\", and paste below\n",
    "# this will return a list of all the element objects for all matching elements\n",
    "#elems = soup.select('#newer-version > div > div > div.a-fixed-left-grid-col.a-col-right > span.a-size-base.a-color-price')\n",
    "elems=soup.select('#public-dual-matches > div.layouts_container__dD4IR > div > table > tbody > tr:nth-child(1) > td:nth-child(2) > div')\n",
    "#elems[0].text.strip()"
   ]
  },
  {
   "cell_type": "code",
   "execution_count": 77,
   "id": "b66beb7e-e8c6-491b-8021-f28346607e12",
   "metadata": {
    "tags": []
   },
   "outputs": [
    {
     "data": {
      "text/plain": [
       "[]"
      ]
     },
     "execution_count": 77,
     "metadata": {},
     "output_type": "execute_result"
    }
   ],
   "source": [
    "elems"
   ]
  },
  {
   "cell_type": "code",
   "execution_count": null,
   "id": "711326df-6955-4b25-84de-e8e3c6eb846d",
   "metadata": {
    "tags": []
   },
   "outputs": [],
   "source": []
  },
  {
   "cell_type": "code",
   "execution_count": null,
   "id": "3241c0e8-0f3b-4c62-9f37-ed5929dc86fb",
   "metadata": {},
   "outputs": [],
   "source": []
  }
 ],
 "metadata": {
  "kernelspec": {
   "display_name": "Python 3 (ipykernel)",
   "language": "python",
   "name": "python3"
  },
  "language_info": {
   "codemirror_mode": {
    "name": "ipython",
    "version": 3
   },
   "file_extension": ".py",
   "mimetype": "text/x-python",
   "name": "python",
   "nbconvert_exporter": "python",
   "pygments_lexer": "ipython3",
   "version": "3.11.5"
  }
 },
 "nbformat": 4,
 "nbformat_minor": 5
}
