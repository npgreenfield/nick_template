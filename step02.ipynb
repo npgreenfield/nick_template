{
 "cells": [
  {
   "cell_type": "code",
   "execution_count": 4,
   "id": "942893cf-bf35-42a6-9da6-610c0d1f7b48",
   "metadata": {
    "tags": []
   },
   "outputs": [
    {
     "data": {
      "text/plain": [
       "8"
      ]
     },
     "execution_count": 4,
     "metadata": {},
     "output_type": "execute_result"
    }
   ],
   "source": [
    "# python comes with a set of modules also called the standard library\n",
    "# each module is a python program with a set of related functions that can be used in your programs\n",
    "# import modules with the import statement\n",
    "# you can import multiple modules with one import statement\n",
    "# import random, sys, os, math\n",
    "import random, sys, os, math\n",
    "random.randint(1,10) # module name followed by function"
   ]
  },
  {
   "cell_type": "code",
   "execution_count": null,
   "id": "b10189a6-f339-4082-8260-ffb2039c7037",
   "metadata": {},
   "outputs": [],
   "source": [
    "import sys\n",
    "print('Hello')\n",
    "sys.exit()        # terminates the program\n",
    "print('Goodbye')  # this line won't execute"
   ]
  },
  {
   "cell_type": "code",
   "execution_count": 12,
   "id": "f694e6eb-5bce-450c-9789-8a905e1fd1d6",
   "metadata": {
    "tags": []
   },
   "outputs": [],
   "source": [
    "import pyperclip"
   ]
  },
  {
   "cell_type": "code",
   "execution_count": 14,
   "id": "10d61d84-b135-4f89-9b6d-9a85483f7826",
   "metadata": {
    "tags": []
   },
   "outputs": [
    {
     "data": {
      "text/plain": [
       "'Hello world!'"
      ]
     },
     "execution_count": 14,
     "metadata": {},
     "output_type": "execute_result"
    }
   ],
   "source": [
    "pyperclip.copy('Hello world!')\n",
    "pyperclip.paste()"
   ]
  },
  {
   "cell_type": "code",
   "execution_count": 21,
   "id": "ed9768fb-dc22-4d03-a41a-e3cef6c718c3",
   "metadata": {
    "tags": []
   },
   "outputs": [
    {
     "name": "stdout",
     "output_type": "stream",
     "text": [
      "Howdy Nick\n",
      "Nick has 4 letters in it.\n",
      "Goodbye!\n",
      "6\n"
     ]
    }
   ],
   "source": [
    "# create your own function\n",
    "def hello(name):\n",
    "    print('Howdy ' + name)\n",
    "    print(name + ' has ' + str(len(name)) + ' letters in it.')\n",
    "    print('Goodbye!')\n",
    "\n",
    "def plusOne(number):\n",
    "    return number + 1\n",
    "    \n",
    "hello('Nick')\n",
    "plusOne(5)"
   ]
  },
  {
   "cell_type": "code",
   "execution_count": 22,
   "id": "3d8e2a3b-df99-44a0-be3a-4bb822854488",
   "metadata": {
    "tags": []
   },
   "outputs": [
    {
     "name": "stdout",
     "output_type": "stream",
     "text": [
      "Hello\n"
     ]
    },
    {
     "data": {
      "text/plain": [
       "True"
      ]
     },
     "execution_count": 22,
     "metadata": {},
     "output_type": "execute_result"
    }
   ],
   "source": [
    "# the print function displays the string without the single quote.  it actually returns the value None (the lack of a value)\n",
    "spam=print('Hello') # or spam=print()\n",
    "spam==None"
   ]
  },
  {
   "cell_type": "code",
   "execution_count": 28,
   "id": "f70778f4-c172-4569-a1fa-d8e8c76cf46f",
   "metadata": {
    "tags": []
   },
   "outputs": [
    {
     "name": "stdout",
     "output_type": "stream",
     "text": [
      "cat dog mouse\n",
      "cat - dog - mouse\n",
      "Hello - World\n"
     ]
    }
   ],
   "source": [
    "print('cat', 'dog', 'mouse')\n",
    "print('cat', 'dog', 'mouse',sep=' - ') # with separater argument\n",
    "\n",
    "print('Hello', end=' - ') # end parameter is added to the end of print statement.  default value is newline\n",
    "print('World')"
   ]
  },
  {
   "cell_type": "code",
   "execution_count": 24,
   "id": "8d46118a-5783-44ce-8c17-996dc8f5e95e",
   "metadata": {
    "tags": []
   },
   "outputs": [
    {
     "name": "stdout",
     "output_type": "stream",
     "text": [
      "43\n",
      "42\n"
     ]
    }
   ],
   "source": [
    "# variables inside a function can have the same name as variables outside the function\n",
    "# a variable is either global or local\n",
    "# global scope is created when the program starts and destroyed when it terminates.\n",
    "# local scope is created when the function is called and destroyed when the function returns.\n",
    "\n",
    "spam=43 # global variable\n",
    "\n",
    "def eggs():\n",
    "  spam=42 # local variable\n",
    "  print(str(spam))\n",
    "\n",
    "print(spam)\n",
    "eggs()"
   ]
  },
  {
   "cell_type": "code",
   "execution_count": null,
   "id": "8dde0996-ff12-405a-973f-226ae0f20b01",
   "metadata": {},
   "outputs": [],
   "source": [
    "# handling errors with the try and except statements\n",
    "# below, we'll get an error when we divide by 0\n",
    "# useful for input validation\n",
    "\n",
    "def div42by(divideBy):\n",
    "  try:\n",
    "    return 42 / divideBy\n",
    "  except ZeroDivisionError:\n",
    "    print('Error: you tried to divide by zero.')\n",
    "\n",
    "print(div42by(2))\n",
    "print(div42by(2))\n",
    "print(div42by(0))\n",
    "print(div42by(1))"
   ]
  },
  {
   "cell_type": "code",
   "execution_count": null,
   "id": "1ac0b9a5-ad59-4666-8c30-935bcc239ba0",
   "metadata": {},
   "outputs": [],
   "source": [
    "# input validation with try/except blocks\n",
    "print('How many cats do you have?')\n",
    "numCats=input()\n",
    "try:\n",
    "    if int(numCats)>=4:\n",
    "      print('That is a lot of cats.')\n",
    "    else:\n",
    "      print('That is not that many cats.')\n",
    "except ValueError:\n",
    "  print('You did not enter a number.')"
   ]
  },
  {
   "cell_type": "code",
   "execution_count": 34,
   "id": "dda1fdb6-f38e-4787-a9ca-5d8c6a1e06b7",
   "metadata": {
    "tags": []
   },
   "outputs": [
    {
     "name": "stdout",
     "output_type": "stream",
     "text": [
      "How many cats do you have?\n"
     ]
    },
    {
     "name": "stdin",
     "output_type": "stream",
     "text": [
      " 4\n"
     ]
    },
    {
     "name": "stdout",
     "output_type": "stream",
     "text": [
      "That is a lot of cats.\n"
     ]
    }
   ],
   "source": []
  },
  {
   "cell_type": "code",
   "execution_count": null,
   "id": "72fa1f06-105d-4647-bba5-be99d82d5d8f",
   "metadata": {},
   "outputs": [],
   "source": []
  }
 ],
 "metadata": {
  "kernelspec": {
   "display_name": "Python 3 (ipykernel)",
   "language": "python",
   "name": "python3"
  },
  "language_info": {
   "codemirror_mode": {
    "name": "ipython",
    "version": 3
   },
   "file_extension": ".py",
   "mimetype": "text/x-python",
   "name": "python",
   "nbconvert_exporter": "python",
   "pygments_lexer": "ipython3",
   "version": "3.11.5"
  }
 },
 "nbformat": 4,
 "nbformat_minor": 5
}
