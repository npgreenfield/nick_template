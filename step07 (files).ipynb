{
 "cells": [
  {
   "cell_type": "code",
   "execution_count": null,
   "id": "bb00aa4f-b3a3-410e-88a2-556d982a9307",
   "metadata": {
    "tags": []
   },
   "outputs": [],
   "source": [
    "# Files\n",
    "# Filenames & Absolute/Relative File Paths\n",
    "print('c:\\\\users\\\\npgreenfield\\\\myfolder')\n",
    "print(r'c:\\users\\npgreenfield\\myfolder') # raw string doesn't have to deal with escape characters\n",
    "print('\\\\'.join(['c:','users','npgreenfield','myfolder','file.png']))\n",
    "\n",
    "import os # linux for google colab; windows for jupiterlabs\n",
    "os.path.join('users','npgreenfield','Documents','files','nick_template','file.png')\n",
    "\n",
    "os.getcwd() # get current working directory\n"
   ]
  },
  {
   "cell_type": "code",
   "execution_count": null,
   "id": "f93f4431-a7ad-48b3-8d81-fb053dcae325",
   "metadata": {
    "tags": []
   },
   "outputs": [],
   "source": [
    "import shutil, os\n",
    "from pathlib import Path\n",
    "\n",
    "os.chdir('c:\\\\users\\\\npgreenfield\\\\Documents\\\\files\\\\nick_template')\n",
    "os.getcwd()"
   ]
  },
  {
   "cell_type": "code",
   "execution_count": null,
   "id": "d8d05a50-c3cf-4240-b404-dcef8f95cc35",
   "metadata": {
    "tags": []
   },
   "outputs": [],
   "source": [
    "absFilePath1 = os.path.abspath('spam.png')\n",
    "back2parentFolders = os.path.abspath('..\\\\..\\\\spam.png') # go back 2 parent folder levels\n",
    "#os.path.isabs('c:\\\\folder\\files') # returns True or False\n",
    "#os.path.isabs('..\\\\..\\\\spam.png') # returns True or False\n",
    "relPath1 = os.path.relpath('c:\\\\folder1\\\\folder2','c:\\\\folder1') # gives rel path between 2 paths that you give it\n",
    "relPath2 = os.path.relpath('c:\\\\folder1\\\\folder2','c:\\\\folder3\\\\folder4') # gives rel path between 2 paths that you give it\n",
    "dirPart = os.path.dirname('/content/drive/MyDrive/pyLearn/spam.png') # returns the directory part of a path\n",
    "filePart = os.path.basename('/content/drive/MyDrive/pyLearn/spam.png') # returns the file part of a parth\n",
    "\n",
    "os.path.exists('c:\\\\windows\\\\system32\\\\calc.exe') # does this path & file exist?\n",
    "\n",
    "print(absFilePath1)\n",
    "print(back2parentFolders)\n",
    "print(relPath1)\n",
    "print(relPath2)\n",
    "print(dirPart)\n",
    "print(filePart)\n",
    "\n",
    "os.listdir('c:\\\\users\\\\npgreenfield\\\\Documents\\\\files\\\\nick_template')"
   ]
  },
  {
   "cell_type": "code",
   "execution_count": null,
   "id": "8c1e8601-242c-48d6-96a9-6d9a796a6145",
   "metadata": {
    "tags": []
   },
   "outputs": [],
   "source": [
    "currDir = os.getcwd()\n",
    "for filename in os.listdir(currDir):\n",
    "    print(filename)"
   ]
  },
  {
   "cell_type": "code",
   "execution_count": null,
   "id": "8b3f458e-2369-4894-b642-9900a1446cbc",
   "metadata": {
    "tags": []
   },
   "outputs": [],
   "source": [
    "totalSize=0\n",
    "for filename in os.listdir('c:\\\\users\\\\npgreenfield\\\\Documents\\\\files\\\\nick_template'):\n",
    "    if not os.path.isfile(os.path.join('c:\\\\users\\\\npgreenfield\\\\Documents\\\\files\\\\nick_template',filename)):\n",
    "        continue\n",
    "    totalSize=totalSize + os.path.getsize(os.path.join('c:\\\\users\\\\npgreenfield\\\\Documents\\\\files\\\\nick_template',filename))\n",
    "\n",
    "totalSize"
   ]
  },
  {
   "cell_type": "code",
   "execution_count": null,
   "id": "c3fa2a6d-5eb6-47ee-b054-4ba126a76553",
   "metadata": {},
   "outputs": [],
   "source": [
    "# make a new folder from a relative or absolute path\n",
    "# os.makedirs('c:\\\\users\\\\npgreenfield\\\\Documents\\\\files\\\\nick_template\\\\madeByPython')"
   ]
  },
  {
   "cell_type": "code",
   "execution_count": null,
   "id": "24ba96a2-257f-433d-830a-8d5e34ba5a85",
   "metadata": {
    "tags": []
   },
   "outputs": [],
   "source": []
  },
  {
   "cell_type": "code",
   "execution_count": null,
   "id": "f7621cd7-dfb0-4488-8e99-922549f88876",
   "metadata": {
    "tags": []
   },
   "outputs": [],
   "source": [
    "# reading & writing plaintext files"
   ]
  },
  {
   "cell_type": "code",
   "execution_count": null,
   "id": "ac741a19-a7d4-4736-ba2d-71fd2b639e55",
   "metadata": {
    "tags": []
   },
   "outputs": [],
   "source": [
    "# step1: open the file (in readmode)\n",
    "helloFile = open('c:\\\\users\\\\npgreenfield\\\\Documents\\\\files\\\\nick_template\\\\readFiles\\\\hello.txt')\n",
    "content = helloFile.read()\n",
    "contentInList = helloFile.readlines()\n",
    "helloFile.close()\n",
    "contentInList"
   ]
  },
  {
   "cell_type": "code",
   "execution_count": null,
   "id": "e866e9ff-0b12-4f67-bf85-8bb3a9849684",
   "metadata": {
    "tags": []
   },
   "outputs": [],
   "source": [
    "# Reading and Writing Plaintext Files\n",
    "# files are either plaintext or binary\n",
    "os.chdir('c:\\\\users\\\\npgreenfield\\\\Documents\\\\files\\\\nick_template\\\\readFiles')\n",
    "# os.getcwd()\n",
    "helloFile = open('hello.txt') # returns a file object\n",
    "print(helloFile.read()) # returns a single string\n",
    "helloFile.close()\n",
    "\n",
    "helloFile = open('hello.txt') # returns a file object\n",
    "print(helloFile.readlines()) # returns a list of strings (one for each line)\n",
    "helloFile.close()"
   ]
  },
  {
   "cell_type": "code",
   "execution_count": null,
   "id": "80a6175b-6250-4eb1-a679-905d17337cd2",
   "metadata": {
    "tags": []
   },
   "outputs": [],
   "source": [
    "helloFile = open('c:\\\\users\\\\npgreenfield\\\\Documents\\\\files\\\\nick_template\\\\readFiles\\\\hello.txt','w') # opens in write mode\n",
    "helloFile.write('Hello!!!!!!!!!!!\\n')\n",
    "helloFile.write('Hello!!!!!!!!!!!\\n\\n\\n')\n",
    "helloFile.write('Hello!!!!!!!!!!!')\n",
    "helloFile.close()\n",
    "#helloFile = open('/content/drive/MyDrive/auto_boring/hello.txt','a') # opens in append mode"
   ]
  },
  {
   "cell_type": "code",
   "execution_count": null,
   "id": "1bd60be5-9936-495c-ba63-4648ac010332",
   "metadata": {
    "tags": []
   },
   "outputs": [],
   "source": [
    "baconFile=open('bacon.txt','w')\n",
    "baconFile.write('Bacon is not a vegetable.')\n",
    "baconFile.close()\n",
    "os.getcwd()"
   ]
  },
  {
   "cell_type": "code",
   "execution_count": null,
   "id": "5ed067e7-b835-4c25-87e3-3d85cbea25e0",
   "metadata": {
    "tags": []
   },
   "outputs": [],
   "source": [
    "baconFile=open('bacon.txt','a')   # in append mode, we won't erase the original contents of the file\n",
    "baconFile.write('\\n\\nBacon is also not vegan.')\n",
    "baconFile.close()"
   ]
  },
  {
   "cell_type": "code",
   "execution_count": null,
   "id": "7faa95c9-1f07-4bb6-ae4f-8775dfddbe8e",
   "metadata": {
    "tags": []
   },
   "outputs": [],
   "source": [
    "# write out to a binary file\n",
    "import shelve\n",
    "shelfFile=shelve.open('mydata') # returns a shelf file object\n",
    "shelfFile['cats']=['Zophie','Pooka','Simon','Fat-tail','Cleo']\n",
    "shelfFile.close()"
   ]
  },
  {
   "cell_type": "code",
   "execution_count": null,
   "id": "a9cf601f-483a-408e-ae9e-576fe88295d2",
   "metadata": {
    "tags": []
   },
   "outputs": [],
   "source": [
    "# Shelf files are like dictionaries\n",
    "shelfFile=shelve.open('mydata')\n",
    "print(list(shelfFile.keys()))\n",
    "print(list(shelfFile.values()))"
   ]
  },
  {
   "cell_type": "code",
   "execution_count": null,
   "id": "cab61b77-a226-4005-9a49-f87d11577502",
   "metadata": {},
   "outputs": [],
   "source": []
  },
  {
   "cell_type": "code",
   "execution_count": null,
   "id": "2f74b74d-b5cb-4dbf-9d31-11690f560a1b",
   "metadata": {
    "tags": []
   },
   "outputs": [],
   "source": [
    "# copying and moving files and folders\n",
    "import shutil\n",
    "shutil.copy('hello.txt','c:\\\\users\\\\npgreenfield\\\\Documents\\\\files\\\\nick_template\\\\readFiles\\\\hello_copy.txt')\n",
    "# use the move function to both move and rename a file\n",
    "# shutil.move('/content/drive/MyDrive/auto_boring/hello_renamed.txt','/content/drive/MyDrive/auto_boring/hello.txt')\n",
    "# os.getcwd()\n",
    "# shutil.copytree('/content/drive/MyDrive/auto_boring','/content/drive/MyDrive/auto_boring_copy')\n",
    "# remove folder and content\n",
    "# shutil.rmtree('/content/drive/MyDrive/auto_boring_copy') # will delete files and the folder  be very careful with this\n"
   ]
  },
  {
   "cell_type": "code",
   "execution_count": null,
   "id": "6a12ecd3-d787-4380-b200-374978d5b632",
   "metadata": {
    "tags": []
   },
   "outputs": [],
   "source": [
    "os.chdir('c:\\\\users\\\\npgreenfield\\\\Desktop')\n",
    "for filename in os.listdir():\n",
    "    if filename.endswith('.txt'):  # we could use endswith('2.txt')\n",
    "        #os.unlink('filename)  # unlink deletes files\n",
    "        print(filename)"
   ]
  },
  {
   "cell_type": "code",
   "execution_count": null,
   "id": "6365424c-2273-4c9f-8811-a557a92439f3",
   "metadata": {
    "tags": []
   },
   "outputs": [],
   "source": [
    "# !pip install send2trash\n",
    "import send2trash\n",
    "send2trash.send2trash('c:\\\\users\\\\npgreenfield\\\\Documents\\\\files\\\\nick_template\\\\readFiles\\\\hello_copy.txt')"
   ]
  },
  {
   "cell_type": "code",
   "execution_count": null,
   "id": "3ee5b3b6-0c9e-4a39-8213-094241626876",
   "metadata": {
    "tags": []
   },
   "outputs": [],
   "source": [
    "import os\n",
    "for folderName, subfolders, filenames in os.walk('c:\\\\users\\\\npgreenfield\\\\Documents\\\\files'):\n",
    "    print('The folder is ' + folderName)\n",
    "    print('The subfolders in ' + folderName + ' are: ' + str(subfolders))\n",
    "    print('The filenames in ' + folderName + ' are: ' + str(filenames))\n",
    "    print()"
   ]
  },
  {
   "cell_type": "code",
   "execution_count": 85,
   "id": "c8b76b62-0786-40fd-9f57-6cd42f9d84af",
   "metadata": {
    "tags": []
   },
   "outputs": [
    {
     "name": "stdout",
     "output_type": "stream",
     "text": [
      "The folder is c:\\users\\npgreenfield\\Documents\\files\n",
      "The folder is c:\\users\\npgreenfield\\Documents\\files\\automate_the_boring\n",
      "The folder is c:\\users\\npgreenfield\\Documents\\files\\automate_the_boring\\.ipynb_checkpoints\n",
      "The folder is c:\\users\\npgreenfield\\Documents\\files\\automate_the_boring\\test2folder\n",
      "The folder is c:\\users\\npgreenfield\\Documents\\files\\automate_the_boring\\test2folder\\.ipynb_checkpoints\n",
      "The folder is c:\\users\\npgreenfield\\Documents\\files\\automate_the_boring\\testfolder\n",
      "The folder is c:\\users\\npgreenfield\\Documents\\files\\automate_the_boring\\testfolder\\.ipynb_checkpoints\n",
      "The folder is c:\\users\\npgreenfield\\Documents\\files\\nick_template\n",
      "The folder is c:\\users\\npgreenfield\\Documents\\files\\nick_template\\.ipynb_checkpoints\n",
      "The folder is c:\\users\\npgreenfield\\Documents\\files\\nick_template\\readFiles\n"
     ]
    }
   ],
   "source": [
    "for folderName, subfolders, filenames in os.walk('c:\\\\users\\\\npgreenfield\\\\Documents\\\\files'):\n",
    "    print('The folder is ' + folderName)"
   ]
  },
  {
   "cell_type": "code",
   "execution_count": null,
   "id": "e6df7b89-693d-4c67-b07f-d270e80506ed",
   "metadata": {},
   "outputs": [],
   "source": []
  }
 ],
 "metadata": {
  "kernelspec": {
   "display_name": "Python 3 (ipykernel)",
   "language": "python",
   "name": "python3"
  },
  "language_info": {
   "codemirror_mode": {
    "name": "ipython",
    "version": 3
   },
   "file_extension": ".py",
   "mimetype": "text/x-python",
   "name": "python",
   "nbconvert_exporter": "python",
   "pygments_lexer": "ipython3",
   "version": "3.11.5"
  }
 },
 "nbformat": 4,
 "nbformat_minor": 5
}
