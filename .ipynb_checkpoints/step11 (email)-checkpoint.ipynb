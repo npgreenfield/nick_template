{
 "cells": [
  {
   "cell_type": "code",
   "execution_count": null,
   "id": "316e3c71-09c9-4267-ae87-f4723eebe31d",
   "metadata": {
    "tags": []
   },
   "outputs": [],
   "source": [
    "import os\n",
    "os.chdir('c:\\\\users\\\\npgreenfield\\\\Documents\\\\files\\\\nick_template\\\\readFiles')\n",
    "os.getcwd()"
   ]
  },
  {
   "cell_type": "code",
   "execution_count": null,
   "id": "47834e65-1c92-42eb-b711-78187f899b56",
   "metadata": {
    "tags": []
   },
   "outputs": [],
   "source": [
    "# sending email via SMTP\n",
    "\n",
    "import smtplib\n",
    "conn=smtplib.SMTP('smtp.gmail.com',587)\n",
    "conn.ehlo()\n",
    "conn.starttls()"
   ]
  },
  {
   "cell_type": "code",
   "execution_count": null,
   "id": "bcace7f5-da9c-4df1-a44a-8cd19dd34d85",
   "metadata": {
    "tags": []
   },
   "outputs": [],
   "source": [
    "# via app-specific password in gmail security (app is \"mail\")\n",
    "conn.login('npgreenfield@gmail.com','aiylqtgjjtmtlpau')"
   ]
  },
  {
   "cell_type": "code",
   "execution_count": null,
   "id": "03c70e05-f76b-4902-a79c-845958adf111",
   "metadata": {
    "tags": []
   },
   "outputs": [],
   "source": [
    "conn.sendmail('npgreenfield@gmail.com','npgreenfield@gmail.com',\n",
    "              'Subject: Test... \\n\\n\n",
    "              This is the body of this test message\\n\n",
    "              This is line 2 of the body.\\n\\n\n",
    "              -Nick')"
   ]
  },
  {
   "cell_type": "code",
   "execution_count": null,
   "id": "9df98d92-21c6-46da-abe8-596ade1fb66f",
   "metadata": {
    "tags": []
   },
   "outputs": [],
   "source": [
    "conn.quit()"
   ]
  },
  {
   "cell_type": "code",
   "execution_count": null,
   "id": "b55e0316-198f-4344-b67a-c06da7fae40d",
   "metadata": {},
   "outputs": [],
   "source": []
  },
  {
   "cell_type": "code",
   "execution_count": null,
   "id": "43c9c698-ada4-451e-af3a-35d0a2ff7ace",
   "metadata": {
    "tags": []
   },
   "outputs": [],
   "source": [
    "# checking email in box via IMAP (internet message access protocol)\n",
    "# !pip install imapclient\n",
    "import imapclient\n",
    "conn=imapclient.IMAPClient('imap.gmail.com',ssl=True)\n",
    "conn.login('npgreenfield@gmail.com','aiylqtgjjtmtlpau')\n",
    "conn.select_folder('INBOX',readonly=True)"
   ]
  },
  {
   "cell_type": "code",
   "execution_count": null,
   "id": "15424289-5130-4387-83b3-7c9cfe298004",
   "metadata": {
    "tags": []
   },
   "outputs": [],
   "source": []
  },
  {
   "cell_type": "code",
   "execution_count": null,
   "id": "876d4b28-a115-4bf8-be62-acb9229fa1fd",
   "metadata": {
    "tags": []
   },
   "outputs": [],
   "source": [
    "import datetime"
   ]
  },
  {
   "cell_type": "code",
   "execution_count": null,
   "id": "c71998ab-5827-447f-8a66-e67040f31cc1",
   "metadata": {
    "tags": []
   },
   "outputs": [],
   "source": [
    "UIDs = conn.search(['SINCE', datetime.date(2024, 2, 9)])"
   ]
  },
  {
   "cell_type": "code",
   "execution_count": null,
   "id": "794149a2-0989-4662-a0a0-7d4b19d1e3be",
   "metadata": {
    "tags": []
   },
   "outputs": [],
   "source": [
    "UIDs[0:10]"
   ]
  },
  {
   "cell_type": "code",
   "execution_count": 33,
   "id": "da0dfe2b-7e3a-4a13-beab-c18cfddc4227",
   "metadata": {
    "tags": []
   },
   "outputs": [],
   "source": [
    "rawMessage=conn.fetch([22635],['BODY[]', 'FLAGS']) # returns a dictionary like structure"
   ]
  },
  {
   "cell_type": "code",
   "execution_count": 35,
   "id": "1ec8b8da-30f3-4637-94bd-7d152f44449d",
   "metadata": {
    "tags": []
   },
   "outputs": [],
   "source": [
    "# !pip install pyzmail36\n",
    "import pyzmail"
   ]
  },
  {
   "cell_type": "code",
   "execution_count": 36,
   "id": "a96b1721-32dd-4c58-93a5-7c452a7ca930",
   "metadata": {
    "tags": []
   },
   "outputs": [],
   "source": [
    "message=pyzmail.PyzMessage.factory(rawMessage[22635][b'BODY[]'])"
   ]
  },
  {
   "cell_type": "code",
   "execution_count": 37,
   "id": "32663a57-1c95-431a-bd90-c9fa2644d580",
   "metadata": {
    "tags": []
   },
   "outputs": [
    {
     "name": "stdout",
     "output_type": "stream",
     "text": [
      "RE: my call with Anna Sadlek\n",
      "[('Rick Wastrom', 'RWastrom@SMITHHANLEY.COM')]\n",
      "[(\"'Nick Greenfield'\", 'npgreenfield@gmail.com')]\n",
      "[]\n"
     ]
    }
   ],
   "source": [
    "print(message.get_subject())\n",
    "print(message.get_addresses('from'))\n",
    "print(message.get_addresses('to'))\n",
    "print(message.get_addresses('bcc'))"
   ]
  },
  {
   "cell_type": "code",
   "execution_count": 39,
   "id": "982ee7e2-befe-4656-9f0f-9008d3e72e34",
   "metadata": {
    "tags": []
   },
   "outputs": [
    {
     "name": "stdout",
     "output_type": "stream",
     "text": [
      "Ok.  Thanks.\n",
      "\n",
      "Richard Wastrom\n",
      "Smith Hanley Associates, LLC\n",
      "107 John Street   2nd Floor\n",
      "Southport, Connecticut 06890\n",
      "203-319-4313\n",
      "203-856-0254  CELL\n",
      "\n",
      "From: Nick Greenfield <npgreenfield@gmail.com>\n",
      "Sent: Friday, February 09, 2024 9:40 AM\n",
      "To: Rick Wastrom <RWastrom@SMITHHANLEY.COM>\n",
      "Subject: my call with Anna Sadlek\n",
      "\n",
      "Rick,\n",
      "I thought it went pretty well.  She'll see if there's an area that she thinks is appropriate for me, and will circle back if she finds something.\n",
      "*         Nick\n",
      "============================================================\n",
      "Nick Greenfield\n",
      "npgreenfield@gmail.com<mailto:npgreenfield@gmail.com>\n",
      "(917) 881-6172\n",
      "\n"
     ]
    }
   ],
   "source": [
    "message.text_part==None\n",
    "message.html_part==None\n",
    "message.text_part.get_payload().decode('UTF-8','ignore')"
   ]
  },
  {
   "cell_type": "code",
   "execution_count": 40,
   "id": "0fe32aa6-7323-4157-9685-a4767373d790",
   "metadata": {
    "tags": []
   },
   "outputs": [
    {
     "data": {
      "text/plain": [
       "<bound method IMAPClient.logout of <imapclient.imapclient.IMAPClient object at 0x0000029107E73990>>"
      ]
     },
     "execution_count": 40,
     "metadata": {},
     "output_type": "execute_result"
    }
   ],
   "source": [
    "conn.logout"
   ]
  },
  {
   "cell_type": "code",
   "execution_count": null,
   "id": "fc8a5211-3dae-4f16-b1ac-ab06ae18b421",
   "metadata": {},
   "outputs": [],
   "source": []
  }
 ],
 "metadata": {
  "kernelspec": {
   "display_name": "Python 3 (ipykernel)",
   "language": "python",
   "name": "python3"
  },
  "language_info": {
   "codemirror_mode": {
    "name": "ipython",
    "version": 3
   },
   "file_extension": ".py",
   "mimetype": "text/x-python",
   "name": "python",
   "nbconvert_exporter": "python",
   "pygments_lexer": "ipython3",
   "version": "3.11.5"
  }
 },
 "nbformat": 4,
 "nbformat_minor": 5
}
