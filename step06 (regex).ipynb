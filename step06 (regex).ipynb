{
 "cells": [
  {
   "cell_type": "code",
   "execution_count": null,
   "id": "aa17b3f6-a2f6-4953-8231-7e921213acef",
   "metadata": {
    "tags": []
   },
   "outputs": [],
   "source": [
    "# is phone number without regex (text patterns)\n",
    "def isPhoneNumber(text):\n",
    "    if len(text) !=12:\n",
    "        return False # not phone number-sized\n",
    "    for i in range(0,3):\n",
    "        if not text[i].isdecimal():\n",
    "            return False # no area code\n",
    "    if text[3] !='-':\n",
    "        return False # missing dash\n",
    "    for i in range(4,7):\n",
    "        if not text[i].isdecimal():\n",
    "            return False # no first 3 digits\n",
    "        if text[7] !='-':\n",
    "            return False # missing second dash\n",
    "        for i in range(8,12):\n",
    "            if not text[i].isdecimal():\n",
    "                return False # missing last 4 digits\n",
    "            return True"
   ]
  },
  {
   "cell_type": "code",
   "execution_count": null,
   "id": "8f6e5fca-9946-4bf1-a6a4-9f98f39c1868",
   "metadata": {
    "tags": []
   },
   "outputs": [],
   "source": [
    "print(isPhoneNumber('415-555-1234'))\n",
    "print(isPhoneNumber('hello'))"
   ]
  },
  {
   "cell_type": "code",
   "execution_count": null,
   "id": "88014288-e0a0-4471-b757-e747018ca118",
   "metadata": {
    "tags": []
   },
   "outputs": [],
   "source": [
    "message = 'Call me 415-555-1011 tomorrow, or at 415-555-9999 for my office line'\n",
    "foundNumber=False\n",
    "for i in range(len(message)):\n",
    "  chunk=message[i:i+12]\n",
    "  if isPhoneNumber(chunk):\n",
    "    print('Phone number found: ' + chunk)\n",
    "    foundNumber=True\n",
    "if not foundNumber:\n",
    "  print('Could not find any phone numbers.')"
   ]
  },
  {
   "cell_type": "code",
   "execution_count": null,
   "id": "59ecda09-4e88-484e-a5ae-db2e27773741",
   "metadata": {
    "tags": []
   },
   "outputs": [],
   "source": [
    "# Regular Expression Basics (like a mini lannguage for specifying text patterns)\n",
    "import re"
   ]
  },
  {
   "cell_type": "code",
   "execution_count": null,
   "id": "1eac80ab-988c-4e2e-bd52-e9ed03f97822",
   "metadata": {
    "tags": []
   },
   "outputs": [],
   "source": [
    "message = 'Call me 415-555-1011 tomorrow, or at 415-555-9999 for my office line'\n",
    "\n",
    "# pass r for raw strings followed by the pattern we're looking for.  use backslash to preface the patterns\n",
    "phoneNumRegex = re.compile(r'\\d\\d\\d-\\d\\d\\d-\\d\\d\\d\\d')\n",
    "\n",
    "# since the regex data type has a search method, we'll use that... which returns a match object\n",
    "mo=phoneNumRegex.search(message)\n",
    "\n",
    "# match objects have a method called group which will tell you the actual text\n",
    "print(mo.group())\n",
    "\n",
    "# use the findall method to print a list of all phone number patterns found\n",
    "print(phoneNumRegex.findall(message))"
   ]
  },
  {
   "cell_type": "code",
   "execution_count": null,
   "id": "e3ddea32-6071-4b6c-a33f-25f60f6a6cfd",
   "metadata": {
    "tags": []
   },
   "outputs": [],
   "source": [
    "# steps:\n",
    "    # call the re.compile() function to create a regex object\n",
    "    # call the regex object's search() method to create a match object\n",
    "    # call the match object's group() method to get the matched string\n",
    "\n",
    "import re\n",
    "phoneNumRegex = re.compile(r'\\d\\d\\d-\\d\\d\\d-\\d\\d\\d\\d')\n",
    "mo = phoneNumRegex.search('My number is 415-555-4242')\n",
    "mo.group()\n",
    "\n",
    "# we use parenthesis to mark out groups\n",
    "phoneNumRegex = re.compile(r'(\\d\\d\\d)-(\\d\\d\\d-\\d\\d\\d\\d)')  # mark out two groups: area code & phone number\n",
    "mo=phoneNumRegex.search('My number is 415-555-4242')\n",
    "print(mo.group())\n",
    "print(mo.group(1)) # print the area code\n",
    "print(mo.group(2)) # print the phone number"
   ]
  },
  {
   "cell_type": "code",
   "execution_count": null,
   "id": "1e1a01be-abf1-4d05-9656-c067a4d35070",
   "metadata": {
    "tags": []
   },
   "outputs": [],
   "source": [
    "phoneNumRegex = re.compile(r'\\(\\d\\d\\d\\) \\d\\d\\d-\\d\\d\\d\\d')\n",
    "mo = phoneNumRegex.search('My number is (415) 555-4242')\n",
    "mo.group()"
   ]
  },
  {
   "cell_type": "code",
   "execution_count": null,
   "id": "b5596899-c2fe-4309-a8c0-4ad686422be3",
   "metadata": {
    "tags": []
   },
   "outputs": [],
   "source": [
    "# Regex and the pipe character\n",
    "\n",
    "batRegex=re.compile(r'Bat(man|mobile|copter|bat)')\n",
    "mo=batRegex.search('Batmobile lost a while')\n",
    "print(mo.group())\n",
    "print(mo.group(1))"
   ]
  },
  {
   "cell_type": "code",
   "execution_count": null,
   "id": "6a93c099-d78f-4e5a-8ea3-d5ef32146885",
   "metadata": {
    "tags": []
   },
   "outputs": [],
   "source": [
    "# Repitition in Regex Patterns and Greedy/Nongreedy Matching (greedy\n",
    "\n",
    "import re\n",
    "\n",
    "# batRegex=re.compile(r'Batman|Batwoman')\n",
    "\n",
    "batRegex=re.compile(r'Bat(wo)?man')  # the pattern (wo) indicates that the wo group can appear 0 or 1 times in order to match the pattern\n",
    "mo=batRegex.search('The adventures of Batman')\n",
    "type(mo)\n",
    "mo=batRegex.search('The adventures of Batwoman')\n",
    "if not mo==None:\n",
    "  print(mo.group())"
   ]
  },
  {
   "cell_type": "code",
   "execution_count": null,
   "id": "4070aac9-df90-4d8c-a10a-bfd484af904c",
   "metadata": {
    "tags": []
   },
   "outputs": [],
   "source": [
    "# you can apply to phone numbers that do or do not have the area code\n",
    "# phoneRegex=re.compile(r'\\d\\d\\d-\\d\\d\\d-\\d\\d\\d\\d')\n",
    "# phoneRegex.search('My phone number is 415-555-1234. Call me tomorrow.')\n",
    "phoneRegex=re.compile(r'(\\d\\d\\d-)?\\d\\d\\d-\\d\\d\\d\\d') # here, we put the first three numbers and dash in a group that can either appear 0 or 1 times\n",
    "# phoneRegex.search('My phone number is 415-555-1234. Call me tomorrow.')\n",
    "mo=phoneRegex.search('My phone number is 555-1234. Call me tomorrow.')\n",
    "if not mo==None:\n",
    "    print(mo.group())"
   ]
  },
  {
   "cell_type": "code",
   "execution_count": null,
   "id": "dcf26b5c-f282-4308-af1a-e4c8070cb172",
   "metadata": {
    "tags": []
   },
   "outputs": [],
   "source": [
    "# ? means 0 or 1 times\n",
    "# * means any number of times\n",
    "# + means 1 or more times\n",
    "batRegex=re.compile(r'Bat(wo)*man')\n",
    "mo=batRegex.search('The adventures of Batwowowoman')\n",
    "if not mo==None:\n",
    "    print(mo.group())"
   ]
  },
  {
   "cell_type": "code",
   "execution_count": null,
   "id": "26494d9d-b30f-4244-bb64-1b0770cfb7c6",
   "metadata": {
    "tags": []
   },
   "outputs": [],
   "source": [
    "regex=re.compile(r'\\+\\*\\?') # if you want to reference literal + * ?, then preface with backslash\n",
    "mo=regex.search('I learned about +*? regex syntax')\n",
    "if not mo==None:\n",
    "    print(mo.group())"
   ]
  },
  {
   "cell_type": "code",
   "execution_count": null,
   "id": "a7d596a5-8fbd-49fc-9608-9a0ce94e3ef7",
   "metadata": {
    "tags": []
   },
   "outputs": [],
   "source": [
    "regex=re.compile(r'(\\+\\*\\?)+') # put in a group and return if it's found 1 or more times\n",
    "mo=regex.search('I learned about +*?+*?+*? regex syntax')\n",
    "if not mo==None:\n",
    "    print(mo.group())"
   ]
  },
  {
   "cell_type": "code",
   "execution_count": null,
   "id": "0d831f8d-d874-454d-93d9-fa7717e15665",
   "metadata": {
    "tags": []
   },
   "outputs": [],
   "source": [
    "# match exact number of expressions in a group, using curly bracket\n",
    "haRegex=re.compile(r'(Ha){3}')\n",
    "mo=haRegex.search('He said \"HaHaHa\"')\n",
    "if not mo==None:\n",
    "    print(mo.group())"
   ]
  },
  {
   "cell_type": "code",
   "execution_count": null,
   "id": "a89c7168-7361-4692-94cd-192f8a10425b",
   "metadata": {
    "tags": []
   },
   "outputs": [],
   "source": [
    "# find exactly 3 phone numbers in a row separated by a comma (and the comma is optional)... and may or may not include the area code\n",
    "phoneRegex=re.compile(r'((\\d\\d\\d-)?\\d\\d\\d-\\d\\d\\d\\d(,)?){3}')\n",
    "mo=phoneRegex.search('My numbers are: 415-999-1234,415-888-2345,777-3456')\n",
    "if not mo==None:\n",
    "    print(mo.group())"
   ]
  },
  {
   "cell_type": "code",
   "execution_count": null,
   "id": "74b8dce5-6bba-4d67-85bd-8c3b2c055c62",
   "metadata": {},
   "outputs": [],
   "source": [
    "# match if it finds Ha between 3-5 times\n",
    "haRegex=re.compile(r'(Ha){3,5}')\n",
    "mo=haRegex.search('He said \"HaHaHaHa\"')\n",
    "if not mo==None:\n",
    "    print(mo.group())"
   ]
  },
  {
   "cell_type": "code",
   "execution_count": null,
   "id": "bd6966fc-804a-41ad-a010-b43361223ffb",
   "metadata": {
    "tags": []
   },
   "outputs": [],
   "source": [
    "# match if it finds Ha 3 or more times\n",
    "haRegex=re.compile(r'(Ha){3,}')\n",
    "mo=haRegex.search('He said \"HaHaHaHa\"')\n",
    "if not mo==None:\n",
    "    print(mo.group())"
   ]
  },
  {
   "cell_type": "code",
   "execution_count": null,
   "id": "7c9ab6ae-5266-42c0-bb86-5acb33ccc3c0",
   "metadata": {
    "tags": []
   },
   "outputs": [],
   "source": [
    "# regular expressions in python, by default, do greedy matches (tries to match the longest possible string that matches the pattern)\n",
    "\n",
    "digitRegex=re.compile(r'(\\d){3,5}') # match any 3, 4 or 5 digits\n",
    "mo=digitRegex.search('1234567890')\n",
    "if not mo==None:\n",
    "    print(mo.group())"
   ]
  },
  {
   "cell_type": "code",
   "execution_count": null,
   "id": "756d7f93-a0b3-4a41-b115-9e2eb4b71ac5",
   "metadata": {
    "tags": []
   },
   "outputs": [],
   "source": [
    "# regular expressions in python, by default, do greedy matches (tries to match the longest possible string that matches the pattern)\n",
    "# but below, if you add a question mark, it has a different meaning... it will do a non greedy match... and match the smallest possible string that matches the pattern.\n",
    "\n",
    "digitRegex=re.compile(r'(\\d){3,5}?') # match any 3, 4 or 5 digits\n",
    "mo=digitRegex.search('1234567890')\n",
    "if not mo==None:\n",
    "    print(mo.group())"
   ]
  },
  {
   "cell_type": "code",
   "execution_count": null,
   "id": "b3bcbb93-1c2f-421e-b03c-b76313af5848",
   "metadata": {
    "tags": []
   },
   "outputs": [],
   "source": [
    "# Regex Character Classes and the findall() Method\n",
    "\n",
    "import re\n",
    "phoneRegex=re.compile(r'\\d\\d\\d-\\d\\d\\d\\-\\d\\d\\d\\d')\n",
    "mo=phoneRegex.findall('My number is 212-755-7441') # findall method returns a list of strings\n",
    "print(mo)"
   ]
  },
  {
   "cell_type": "code",
   "execution_count": null,
   "id": "b08c37b3-73c8-48fb-8b1d-229b6293fa33",
   "metadata": {
    "tags": []
   },
   "outputs": [],
   "source": [
    "# findall method returns a list of tuples that have strings\n",
    "import re\n",
    "phoneRegex=re.compile(r'(\\d\\d\\d)-(\\d\\d\\d\\-\\d\\d\\d\\d)')\n",
    "mo=phoneRegex.findall('My numbers are 212-755-7441 and 917-881-6172 and 212-758-7202')\n",
    "print(mo)"
   ]
  },
  {
   "cell_type": "code",
   "execution_count": null,
   "id": "2a803f3a-116b-4d40-a50c-ae909f8605a7",
   "metadata": {
    "tags": []
   },
   "outputs": [],
   "source": [
    "# add another level of grouping\n",
    "import re\n",
    "phoneRegex=re.compile(r'((\\d\\d\\d)-(\\d\\d\\d\\-\\d\\d\\d\\d))')\n",
    "mo=phoneRegex.findall('My numbers are 212-755-7441 and 917-881-6172 and 212-758-7202')\n",
    "print(mo)"
   ]
  },
  {
   "cell_type": "code",
   "execution_count": null,
   "id": "a49e8dbb-6774-4eaf-b7fc-66c6dccab696",
   "metadata": {},
   "outputs": [],
   "source": []
  },
  {
   "cell_type": "code",
   "execution_count": null,
   "id": "bd2588d3-2344-4f6b-bd48-3edcaf0c28e4",
   "metadata": {
    "tags": []
   },
   "outputs": [],
   "source": [
    "# Character classes\n",
    "# the two lines below accomplish the same thing\n",
    "# digitRegex=re.compile(r'(0|1|2|3|4|5|6|7|8|9)')\n",
    "# digitRegex=re.compile(r'\\d') # shortcut\n",
    "\n",
    "# \\d   any numeric digit from 0 to 9\n",
    "# \\D   any character that is not a numeric digit from 0 to 9\n",
    "# \\w   any letter, numeric digit, or the underscore character (think of this as matching \"word\" characters)\n",
    "# \\s   any space, tab or newline character (think of this as matching \"space\" characters)\n",
    "# \\S   any character that is not a space, tab or newline\n",
    "\n",
    "# Example\n",
    "\n",
    "lyrics='12 drummers drumming, 11 pipers piping, 10 lords a leaping, 9 ladies dancing, 8 maids a milking, 7 swans a swimming, and 1 partridge in a pear tree'\n",
    "xmasRegex=re.compile(r'\\d+\\s\\w+')\n",
    "xmasRegex.findall(lyrics)"
   ]
  },
  {
   "cell_type": "code",
   "execution_count": null,
   "id": "9ff35796-3930-438f-b479-be35be29de30",
   "metadata": {
    "tags": []
   },
   "outputs": [],
   "source": [
    "# create your own character classes\n",
    "vowelRegex=re.compile(r'[a-fA-F]')      # all lowercase & uppercase letters between a-f\n",
    "vowelRegex=re.compile(r'[aeiouAEIOU]')    # r'(a|e|i|o|u|A|E|I|O|U)'\n",
    "vowelRegex.findall('Robocop eats baby food')"
   ]
  },
  {
   "cell_type": "code",
   "execution_count": null,
   "id": "609bb5ea-fd7f-4d2f-a559-f1be03f3b062",
   "metadata": {
    "tags": []
   },
   "outputs": [],
   "source": [
    "# character class with two vowels in a row\n",
    "vowelRegex=re.compile(r'[aeiouAEIOU]{2}')\n",
    "vowelRegex.findall('Robocop eats baby food')"
   ]
  },
  {
   "cell_type": "code",
   "execution_count": null,
   "id": "f6a9e911-4e5a-48b1-90ff-611f7977cf14",
   "metadata": {
    "tags": []
   },
   "outputs": [],
   "source": [
    "# character class with non vowels\n",
    "consonantsRegex=re.compile(r'[^aeiouAEIOU]')\n",
    "consonantsRegex.findall('Robocop eats baby food')"
   ]
  },
  {
   "cell_type": "code",
   "execution_count": null,
   "id": "1a248d09-e6ad-4a65-b8a7-00ca47c31eb7",
   "metadata": {
    "tags": []
   },
   "outputs": [],
   "source": [
    "# with the ^ search for a word at the beginning of a string\n",
    "beginsWithHelloRegex = re.compile(r'^Hello')\n",
    "beginsWithHelloRegex.search('Hello there!')\n",
    "beginsWithHelloRegex.search('He said Hello there!') == None"
   ]
  },
  {
   "cell_type": "code",
   "execution_count": null,
   "id": "f6e5ba79-79de-4bd1-90f3-531a7600fc28",
   "metadata": {
    "tags": []
   },
   "outputs": [],
   "source": [
    "# with the $ search for a word at the beginning of a string\n",
    "beginsWithHelloRegex = re.compile(r'world!$')\n",
    "beginsWithHelloRegex.search('Hello world!')\n",
    "beginsWithHelloRegex.search('Hello world! Nick') == None"
   ]
  },
  {
   "cell_type": "code",
   "execution_count": null,
   "id": "d276743d-7a2f-4559-af61-afffc0c0e3f8",
   "metadata": {
    "tags": []
   },
   "outputs": [],
   "source": [
    "# pattern must match the entire string\n",
    "allDigitsRegex = re.compile(r'^\\d+$')\n",
    "allDigitsRegex.search('1234234234879234') == None\n",
    "allDigitsRegex.search('123423c4234879234') == None"
   ]
  },
  {
   "cell_type": "code",
   "execution_count": null,
   "id": "daf37af9-666a-457f-8278-d7793fd2098b",
   "metadata": {
    "tags": []
   },
   "outputs": [],
   "source": [
    "# string with contain anything (wildcard .) followed by \"at\"\n",
    "atRegex = re.compile(r'.at')\n",
    "atRegex.findall('The cat in the hat sat on the flat mat.')"
   ]
  },
  {
   "cell_type": "code",
   "execution_count": null,
   "id": "29e83947-28bb-4af3-a026-36c734ce1749",
   "metadata": {
    "tags": []
   },
   "outputs": [],
   "source": [
    "atRegex = re.compile(r'.{1,2}at')\n",
    "atRegex.findall('The cat in the hat sat on the flat mat.')"
   ]
  },
  {
   "cell_type": "code",
   "execution_count": null,
   "id": "1e1591ec-f07e-47c5-8b30-78e394f0b10e",
   "metadata": {
    "tags": []
   },
   "outputs": [],
   "source": [
    "# .* is in greedy mode.  it will always try to find as much text as possible\n",
    "nameRegex = re.compile(r'First Name: (.*) Last Name: (.*)')\n",
    "nameRegex.findall('First Name: Al Last Name: Sweigart')"
   ]
  },
  {
   "cell_type": "code",
   "execution_count": null,
   "id": "58229b2e-65fb-4b9f-ade8-f3a5d995ad21",
   "metadata": {
    "tags": []
   },
   "outputs": [],
   "source": [
    "# .*? is in non-greedy mode.  it will always try to find but for as little text as possible\n",
    "serve = '<To serve humans> for dinner.>'\n",
    "nongreedy = re.compile(r'<(.*?)>')\n",
    "nongreedy.findall(serve)"
   ]
  },
  {
   "cell_type": "code",
   "execution_count": null,
   "id": "637c032f-706e-4fa5-8e42-5f2e3719440c",
   "metadata": {
    "tags": []
   },
   "outputs": [],
   "source": [
    "# .* is in greedy mode.  it will always try to find as much text as possible... in this case, to much text\n",
    "serve = '<To serve humans> for dinner.>'\n",
    "greedy = re.compile(r'<(.*)>')\n",
    "greedy.findall(serve)"
   ]
  },
  {
   "cell_type": "code",
   "execution_count": null,
   "id": "94863901-0200-4161-8c48-cd5572aedcf9",
   "metadata": {
    "tags": []
   },
   "outputs": [],
   "source": [
    "# stops at the end of the first line... as the default behavior for .* is to stop at the end of the line\n",
    "prime = 'Serve the public trust.\\nProtect the innocent.\\nUpload the law.'\n",
    "dotStar = re.compile(r'.*')\n",
    "dotStar.search(prime)"
   ]
  },
  {
   "cell_type": "code",
   "execution_count": null,
   "id": "0df3c010-7108-4b62-a11b-40d0dc5f11fa",
   "metadata": {
    "tags": []
   },
   "outputs": [],
   "source": [
    "# handles all lines... via DOTALL property\n",
    "prime = 'Serve the public trust.\\nProtect the innocent.\\nUpload the law.'\n",
    "dotStar = re.compile(r'.*',re.DOTALL)\n",
    "dotStar.search(prime)"
   ]
  },
  {
   "cell_type": "code",
   "execution_count": null,
   "id": "7d73ffc4-ee45-464e-ab91-17a3dbcec396",
   "metadata": {
    "tags": []
   },
   "outputs": [],
   "source": [
    "vowelRegex=re.compile(r'[aeiou]')\n",
    "vowelRegex.findall('Al, why does your programming book talk about RoboCop so much?')"
   ]
  },
  {
   "cell_type": "code",
   "execution_count": null,
   "id": "46e5e829-ea3e-412a-b41a-6153988dde2e",
   "metadata": {
    "tags": []
   },
   "outputs": [],
   "source": [
    "vowelRegex=re.compile(r'[aeiou]',re.IGNORECASE)  # or re.I\n",
    "vowelRegex.findall('Al, why does your programming book talk about RoboCop so much?')"
   ]
  },
  {
   "cell_type": "code",
   "execution_count": null,
   "id": "e24a34a4-eb21-49ee-b99d-201464bd591d",
   "metadata": {
    "tags": []
   },
   "outputs": [],
   "source": [
    "# Regex sub() Method and Verbose Mode\n",
    "\n",
    "namesRegex = re.compile(r'Agent \\w+')\n",
    "namesRegex.findall('Agent Alice gave the secret documents to Agent Bob.')\n",
    "namesRegex.sub('REDACTED','Agent Alice gave the secret documents to Agent Bob.')"
   ]
  },
  {
   "cell_type": "code",
   "execution_count": null,
   "id": "df022e29-6a17-4232-8691-47c1332a93af",
   "metadata": {
    "tags": []
   },
   "outputs": [],
   "source": [
    "namesRegex = re.compile(r'Agent (\\w)\\w*')\n",
    "namesRegex.findall('Agent Alice gave the secret documents to Agent Bob.')\n",
    "namesRegex.sub(r'Agent \\1****','Agent Alice gave the secret documents to Agent Bob.')"
   ]
  },
  {
   "cell_type": "code",
   "execution_count": null,
   "id": "d1f314ff-35b6-4979-9ce5-18b3a34b3540",
   "metadata": {
    "tags": []
   },
   "outputs": [],
   "source": [
    "# verbose mode format - more readable\n",
    "\n",
    "re.compile(r'''\n",
    "(\\d\\d\\d-)|                  # area code (without parens, with dash)\n",
    "(\\(\\d\\d\\d\\) )               # -or- area code with parens and no dash\n",
    "-                           # first dash\n",
    "\\d\\d\\d                      # first three digits\n",
    "-                           # second dash\n",
    "\\d\\d\\d\\d                    # last four digits\n",
    "\\sx\\d{2,4}                  # extension, like x1234''',re.VERBOSE)\n",
    "# you can use:  re.IGNORECASE | re.DOTALL | re.VERBOSE"
   ]
  },
  {
   "cell_type": "code",
   "execution_count": null,
   "id": "5684805e-1372-4328-b5fc-cc42c53ad2f1",
   "metadata": {
    "tags": []
   },
   "outputs": [],
   "source": []
  },
  {
   "cell_type": "code",
   "execution_count": null,
   "id": "bb03aa57-c016-4cd7-ad1f-0fad8bcb981d",
   "metadata": {},
   "outputs": [],
   "source": [
    "# a regex phone and email scraper\n",
    "# to do:\n",
    "    # create a regex object for phone numbers\n",
    "    # create a regex object for email addresses\n",
    "    # get the text off the clipboard\n",
    "    # extract the email/phone from this text\n",
    "    # copy the extracted email/phone to the clipboard"
   ]
  },
  {
   "cell_type": "code",
   "execution_count": null,
   "id": "1ed4043b-4277-4eaa-8918-4e84983193f2",
   "metadata": {
    "tags": []
   },
   "outputs": [],
   "source": [
    "import re, pyperclip"
   ]
  },
  {
   "cell_type": "code",
   "execution_count": null,
   "id": "4f0a768e-6d36-4668-a23d-477f98be0adc",
   "metadata": {
    "tags": []
   },
   "outputs": [],
   "source": [
    "# create a regex for phone numbers\n",
    "phoneRegex = re.compile(r'''\n",
    "# 415-555-0000, 555-0000, (415) 555-0000, 555-0000 ext 12345, ext. 12345, x12345\n",
    "\n",
    "(\n",
    "((\\d\\d\\d)|(\\(\\d\\d\\d\\)))?       # area code (optional)\n",
    "(\\s|-)                         # first separator\n",
    "\\d\\d\\d                         # first 3 digits\n",
    "-                              # separator\n",
    "\\d\\d\\d\\d                       # last 4 digits\n",
    "(((ext(\\.)?\\s)|x)              # extension word-part (optional)\n",
    " (\\d{2-5}))?                   # extension number-part (optional)\n",
    ")\n",
    "''',re.VERBOSE)"
   ]
  },
  {
   "cell_type": "code",
   "execution_count": null,
   "id": "0022922a-3277-4ada-a88c-ea021ce4eb78",
   "metadata": {
    "tags": []
   },
   "outputs": [],
   "source": [
    "# create a regex object for email addresses\n",
    "emailRegex = re.compile(r'''\n",
    "# some.+_thing@something.com\n",
    "\n",
    "[a-zA-Z0-9_.+]+        # name part (create our own character class)\n",
    "@                      # @ symbol\n",
    "[a-zA-Z0-9_.+]+        # domain name part\n",
    "''', re.VERBOSE)"
   ]
  },
  {
   "cell_type": "code",
   "execution_count": null,
   "id": "8c99dd65-d11c-45d5-9f36-e2b71a03abf5",
   "metadata": {
    "tags": []
   },
   "outputs": [],
   "source": [
    "print(text)"
   ]
  },
  {
   "cell_type": "code",
   "execution_count": 137,
   "id": "11a47ded-cf91-4acf-a48d-6fd4d4418945",
   "metadata": {
    "tags": []
   },
   "outputs": [],
   "source": [
    "# get the text off the clipboard\n",
    "text = pyperclip.paste()\n",
    "\n",
    "# extract the email/phone from this text\n",
    "extractedPhone = phoneRegex.findall(text)\n",
    "extractedEmail = emailRegex.findall(text)\n",
    "\n",
    "allPhoneNumbers = []\n",
    "for phoneNumber in extractedPhone:\n",
    "    allPhoneNumbers.append(phoneNumber[0])\n",
    "\n",
    "#print(allPhoneNumbers)\n",
    "#print(extractedEmail)\n",
    "\n",
    "# copy the extracted email/phone to the clipboard\n",
    "results = '\\n'.join(allPhoneNumbers) + '\\n' + '\\n'.join(extractedEmail)\n",
    "pyperclip.copy(results)"
   ]
  },
  {
   "cell_type": "code",
   "execution_count": null,
   "id": "1708d7dd-3461-4f1c-a40d-5fb6f3346726",
   "metadata": {},
   "outputs": [],
   "source": []
  }
 ],
 "metadata": {
  "kernelspec": {
   "display_name": "Python 3 (ipykernel)",
   "language": "python",
   "name": "python3"
  },
  "language_info": {
   "codemirror_mode": {
    "name": "ipython",
    "version": 3
   },
   "file_extension": ".py",
   "mimetype": "text/x-python",
   "name": "python",
   "nbconvert_exporter": "python",
   "pygments_lexer": "ipython3",
   "version": "3.11.5"
  }
 },
 "nbformat": 4,
 "nbformat_minor": 5
}
